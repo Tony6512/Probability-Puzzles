{
  "nbformat": 4,
  "nbformat_minor": 0,
  "metadata": {
    "colab": {
      "provenance": [],
      "toc_visible": true,
      "authorship_tag": "ABX9TyPvSDZcuSq68AcOAAmH98Ua",
      "include_colab_link": true
    },
    "kernelspec": {
      "name": "python3",
      "display_name": "Python 3"
    },
    "language_info": {
      "name": "python"
    }
  },
  "cells": [
    {
      "cell_type": "markdown",
      "metadata": {
        "id": "view-in-github",
        "colab_type": "text"
      },
      "source": [
        "<a href=\"https://colab.research.google.com/github/Tony6512/Probability-Puzzles/blob/main/probability_puzzles.ipynb\" target=\"_parent\"><img src=\"https://colab.research.google.com/assets/colab-badge.svg\" alt=\"Open In Colab\"/></a>"
      ]
    },
    {
      "cell_type": "markdown",
      "source": [
        "# Simulations for Puzzles"
      ],
      "metadata": {
        "id": "ACveWpEDMe30"
      }
    },
    {
      "cell_type": "markdown",
      "source": [
        "Note that some problems are duplicates (or closely related) to others. For this reason, some problems may or may not show up multiple times."
      ],
      "metadata": {
        "id": "LdSa37JHk1zt"
      }
    },
    {
      "cell_type": "code",
      "source": [
        "import random\n",
        "import scipy\n",
        "import numpy as np\n",
        "import matplotlib.pyplot as plt\n",
        "import seaborn as sns\n",
        "import math\n",
        "from tqdm import tqdm"
      ],
      "metadata": {
        "id": "XGdNvNLfJR1M"
      },
      "execution_count": null,
      "outputs": []
    },
    {
      "cell_type": "markdown",
      "source": [
        "## OpenQuant"
      ],
      "metadata": {
        "id": "qdxXEOjGSxkF"
      }
    },
    {
      "cell_type": "markdown",
      "source": [
        "The following problems (below) I personally programmed as there was no code provided on openquant (https://openquant.co/questions)."
      ],
      "metadata": {
        "id": "-bh1kHDNRt8r"
      }
    },
    {
      "cell_type": "code",
      "source": [
        "## Digit Sum of 19\n",
        "def digitSum(n_numbers = 1_000_000):\n",
        "  count = 0\n",
        "  for val in range(1, n_numbers + 1):\n",
        "    val_sum = sum(int(i) for i in str(val))\n",
        "    if val_sum == 19:\n",
        "      count += 1\n",
        "  return count"
      ],
      "metadata": {
        "id": "Vl7ZhftHQaxs"
      },
      "execution_count": null,
      "outputs": []
    },
    {
      "cell_type": "code",
      "source": [
        "digitSum()"
      ],
      "metadata": {
        "colab": {
          "base_uri": "https://localhost:8080/"
        },
        "id": "VPZTA5N2HrhS",
        "outputId": "5d802a8e-165f-4a48-d926-e4220ca818b3"
      },
      "execution_count": null,
      "outputs": [
        {
          "output_type": "execute_result",
          "data": {
            "text/plain": [
              "30492"
            ]
          },
          "metadata": {},
          "execution_count": 149
        }
      ]
    },
    {
      "cell_type": "code",
      "source": [
        "## Consecutive Heads (also on brain stellar)\n",
        "def consecutiveHeads(n_heads = 3, iters = 100_000):\n",
        "  avg_count = consecutiveHeadsHelper(n_heads)\n",
        "  for i in range(2, iters+1):\n",
        "    avg_count = avg_count * ( (i-1) / i ) + consecutiveHeadsHelper(n_heads) / i\n",
        "  return avg_count\n",
        "\n",
        "def consecutiveHeadsHelper(n_heads):\n",
        "  count = 0\n",
        "  consec_heads = 0\n",
        "  while consec_heads < n_heads:\n",
        "    coin = random.randint(0,1) ## 1 is heads\n",
        "    if coin:\n",
        "      consec_heads += 1\n",
        "    else:\n",
        "      consec_heads = 0\n",
        "    count += 1\n",
        "  return count\n",
        "\n",
        "# def consecutiveHeadsHelper(n_heads, consec_heads = 0): ## recursion\n",
        "#   if n_heads == consec_heads:\n",
        "#     return 0\n",
        "#   coin = random.randint(0,1) ## 1 is heads\n",
        "#   if coin:\n",
        "#     return consecutiveHeadsHelper(n_heads, consec_heads + 1) + 1\n",
        "#   else:\n",
        "#     return consecutiveHeadsHelper(n_heads, 0) + 1"
      ],
      "metadata": {
        "id": "YMxiilI5Qa1V"
      },
      "execution_count": null,
      "outputs": []
    },
    {
      "cell_type": "code",
      "source": [
        "consecutiveHeads() # n_head = [1,2,3] -> [2, 6, 14]"
      ],
      "metadata": {
        "colab": {
          "base_uri": "https://localhost:8080/"
        },
        "id": "k5deL6k6LgWH",
        "outputId": "1fbc45dd-cf18-400d-f6f5-308842082309"
      },
      "execution_count": null,
      "outputs": [
        {
          "output_type": "execute_result",
          "data": {
            "text/plain": [
              "13.992889999999896"
            ]
          },
          "metadata": {},
          "execution_count": 82
        }
      ]
    },
    {
      "cell_type": "code",
      "source": [
        "## How Many Heads\n",
        "def howManyHeads(flips = 12, iters = 100_000):\n",
        "  avg_count = flippingCoin(flips)\n",
        "  for i in range(2, iters + 1):\n",
        "    avg_count = avg_count * (i-1) / i + flippingCoin(flips) / i\n",
        "  return avg_count\n",
        "\n",
        "def defineHat():\n",
        "  hat = dict()\n",
        "  hat['coin1'] = [0] * 2 + [1]\n",
        "  hat['coin2'] = [0] + [1] * 2\n",
        "  hat['coin3'] = [1]\n",
        "  for coin in hat:\n",
        "    random.shuffle(hat[coin])\n",
        "  return hat\n",
        "\n",
        "def selectingCoin():\n",
        "  n_heads = 0\n",
        "  hat = defineHat()\n",
        "  while n_heads < 2:\n",
        "    select_coin = random.choice(['coin1', 'coin2', 'coin3'])\n",
        "    for _ in range(2):\n",
        "      side = random.choice(hat[select_coin])\n",
        "      if side != 1:\n",
        "        n_heads = 0\n",
        "        break\n",
        "      else:\n",
        "        n_heads += 1\n",
        "  return select_coin\n",
        "\n",
        "def flippingCoin(flips):\n",
        "  select_coin = selectingCoin()\n",
        "  hat = defineHat()\n",
        "  count = 0\n",
        "  for _ in range(flips):\n",
        "    side = random.choice(hat[select_coin])\n",
        "    if side:\n",
        "      count += 1\n",
        "  return count"
      ],
      "metadata": {
        "id": "3UHKZNCqQa5P"
      },
      "execution_count": null,
      "outputs": []
    },
    {
      "cell_type": "code",
      "source": [
        "howManyHeads()"
      ],
      "metadata": {
        "colab": {
          "base_uri": "https://localhost:8080/"
        },
        "id": "_WbiX_JuUjtA",
        "outputId": "afac8998-f431-4dba-8dd8-181ce37cb505"
      },
      "execution_count": null,
      "outputs": [
        {
          "output_type": "execute_result",
          "data": {
            "text/plain": [
              "10.280500000000071"
            ]
          },
          "metadata": {},
          "execution_count": 147
        }
      ]
    },
    {
      "cell_type": "code",
      "source": [
        "## 12 flips\n",
        "72/7"
      ],
      "metadata": {
        "colab": {
          "base_uri": "https://localhost:8080/"
        },
        "id": "f2JHyc3aUr3y",
        "outputId": "53fc5185-b2e4-406b-e8a5-ac12fe9b2059"
      },
      "execution_count": null,
      "outputs": [
        {
          "output_type": "execute_result",
          "data": {
            "text/plain": [
              "10.285714285714286"
            ]
          },
          "metadata": {},
          "execution_count": 143
        }
      ]
    },
    {
      "cell_type": "code",
      "source": [
        "## First to 50\n",
        "def firstToN(N = 50):\n",
        "  '''\n",
        "  returns starting integer player should choose to win\n",
        "  '''\n",
        "  ## first to 50 wins\n",
        "  ## can go up 1,.., 10\n",
        "  return N % (10 + 1)\n",
        "\n",
        "def wantedNumbers(N = 50, reverse = False):\n",
        "  '''\n",
        "  returns list of int that the player should choose to get first to N\n",
        "\n",
        "  reverse: (default is False) if False the first player to get to N wins else\n",
        "          if True the first player to N loses\n",
        "  '''\n",
        "  if reverse:\n",
        "    N = N-1\n",
        "  q, r = divmod(N, 11)\n",
        "  lst = [-1] * q\n",
        "  for i in range(0, q):\n",
        "    lst[i] = r + 11*i\n",
        "  return lst + [N]"
      ],
      "metadata": {
        "id": "ysMkz4d1Qa85"
      },
      "execution_count": null,
      "outputs": []
    },
    {
      "cell_type": "code",
      "source": [
        "firstToN()"
      ],
      "metadata": {
        "colab": {
          "base_uri": "https://localhost:8080/"
        },
        "id": "DiRS7PkIXEiZ",
        "outputId": "44f1e246-dc48-4b71-9de3-2cba56728e7e"
      },
      "execution_count": null,
      "outputs": [
        {
          "output_type": "execute_result",
          "data": {
            "text/plain": [
              "6"
            ]
          },
          "metadata": {},
          "execution_count": 169
        }
      ]
    },
    {
      "cell_type": "code",
      "source": [
        "wantedNumbers()"
      ],
      "metadata": {
        "colab": {
          "base_uri": "https://localhost:8080/"
        },
        "id": "jMUDXrAlXQSL",
        "outputId": "0e041c91-2644-4411-b025-75db3e98cf18"
      },
      "execution_count": null,
      "outputs": [
        {
          "output_type": "execute_result",
          "data": {
            "text/plain": [
              "[6, 17, 28, 39, 50]"
            ]
          },
          "metadata": {},
          "execution_count": 170
        }
      ]
    },
    {
      "cell_type": "code",
      "source": [
        "wantedNumbers(reverse = True)"
      ],
      "metadata": {
        "colab": {
          "base_uri": "https://localhost:8080/"
        },
        "id": "BWKnI4zJZ3mh",
        "outputId": "e578328d-17ae-4d98-c773-ffe927122af4"
      },
      "execution_count": null,
      "outputs": [
        {
          "output_type": "execute_result",
          "data": {
            "text/plain": [
              "[5, 16, 27, 38, 49]"
            ]
          },
          "metadata": {},
          "execution_count": 172
        }
      ]
    },
    {
      "cell_type": "code",
      "source": [
        "## Expected Value of the Highest Die\n",
        "def highestDie(iters = 100_000):\n",
        "  avg_val = highestDieHelper()\n",
        "  for i in range(2, iters + 1):\n",
        "    avg_val = avg_val * (i-1) / i + highestDieHelper() / i\n",
        "  return avg_val\n",
        "\n",
        "def highestDieHelper():\n",
        "  roll_die = lambda : random.randint(1,6)\n",
        "  return max(roll_die(), roll_die())"
      ],
      "metadata": {
        "id": "gcZiXgTDQbA4"
      },
      "execution_count": null,
      "outputs": []
    },
    {
      "cell_type": "code",
      "source": [
        "highestDie()"
      ],
      "metadata": {
        "colab": {
          "base_uri": "https://localhost:8080/"
        },
        "id": "Pe3hMhuueynH",
        "outputId": "9656aed2-4e2d-4a77-9d90-390c394ae645"
      },
      "execution_count": null,
      "outputs": [
        {
          "output_type": "execute_result",
          "data": {
            "text/plain": [
              "4.470829999999918"
            ]
          },
          "metadata": {},
          "execution_count": 180
        }
      ]
    },
    {
      "cell_type": "code",
      "source": [
        "161/36"
      ],
      "metadata": {
        "colab": {
          "base_uri": "https://localhost:8080/"
        },
        "id": "HshkqOCmfWhJ",
        "outputId": "05cff922-2e97-46b3-a3b0-2318a911bb97"
      },
      "execution_count": null,
      "outputs": [
        {
          "output_type": "execute_result",
          "data": {
            "text/plain": [
              "4.472222222222222"
            ]
          },
          "metadata": {},
          "execution_count": 181
        }
      ]
    },
    {
      "cell_type": "code",
      "source": [
        "## Even Flips\n",
        "def EvenFlips(iters = 100_000):\n",
        "  count = 0\n",
        "  for _ in range(iters):\n",
        "    count += EvenFlipsHelper()\n",
        "  return count / iters\n",
        "\n",
        "def EvenFlipsHelper():\n",
        "  n_flips = 0\n",
        "  consec_heads = 0\n",
        "  consec_tails = 0\n",
        "  while consec_heads < 2 and consec_tails < 2:\n",
        "    coin_flip = random.randint(0,1)\n",
        "    n_flips += 1\n",
        "    if coin_flip == 0:\n",
        "      consec_tails += 1\n",
        "      consec_heads = 0\n",
        "    else:\n",
        "      consec_heads += 1\n",
        "      consec_tails = 0\n",
        "  return 1 if n_flips % 2 == 0 else 0"
      ],
      "metadata": {
        "id": "6LXR5ES2QbEf"
      },
      "execution_count": null,
      "outputs": []
    },
    {
      "cell_type": "code",
      "source": [
        "EvenFlips()"
      ],
      "metadata": {
        "colab": {
          "base_uri": "https://localhost:8080/"
        },
        "id": "dB9lj_pWjn6w",
        "outputId": "05d6b42b-b85b-410c-cd29-bb2309d0c1cb"
      },
      "execution_count": null,
      "outputs": [
        {
          "output_type": "execute_result",
          "data": {
            "text/plain": [
              "0.66589"
            ]
          },
          "metadata": {},
          "execution_count": 192
        }
      ]
    },
    {
      "cell_type": "code",
      "source": [
        "## same birthday\n",
        "class Solution:\n",
        "  def sameBirthday(self, n = 3 ,trials = 100_000):\n",
        "    '''\n",
        "    probability at least 2 people of n at same birthday\n",
        "    '''\n",
        "    count = 0\n",
        "    for trial in range(trials):\n",
        "      count += self.samebirthdayHelper(n)\n",
        "    return count / trials\n",
        "\n",
        "\n",
        "  def samebirthdayHelper(self, n):\n",
        "    people = [random.randint(1,365) for _ in range(n)]\n",
        "    if len(people) == len(set(people)):\n",
        "      return 0\n",
        "    return 1\n",
        "\n",
        "  def birthdayThreshold(self, threshold = 0.5):\n",
        "    '''\n",
        "    smallest number of people (n) required so that the prob of same birthday of\n",
        "    those n people is greater than threshold\n",
        "    '''\n",
        "    left, right = 0, 365\n",
        "    while left <= right:\n",
        "      mid = (left + right) // 2\n",
        "      p = self.sameBirthday(mid)\n",
        "      if p < threshold:\n",
        "        left = mid + 1\n",
        "      else:\n",
        "        right = mid - 1\n",
        "    return left\n",
        "\n",
        "  def birthdayAsYou(self, n = 3, trials = 100_000):\n",
        "    '''\n",
        "    probability of a group of n people (including you) having the same birthday\n",
        "    as you\n",
        "    '''\n",
        "    count = 0\n",
        "    for trial in range(trials):\n",
        "      count += self.birthdayAsYouHelper(n)\n",
        "    return count / trials\n",
        "\n",
        "  def birthdayAsYouHelper(self, n):\n",
        "    your_birthday = random.randint(1, 365)\n",
        "    if n == 1:\n",
        "      return 1\n",
        "    people = [random.randint(1,365) for _ in range(n-1)]\n",
        "    if your_birthday in people:\n",
        "      return 1\n",
        "    return 0\n",
        "\n",
        "  def birthdayLine(self):\n",
        "    prev = 0\n",
        "    current = 1 / 365\n",
        "    result = 2\n",
        "    while prev < current:\n",
        "      result += 1\n",
        "      prev = current\n",
        "      current = current *( 365 - (result - 1) + 1) / 365 * (result - 1) / (result-2)\n",
        "    return result"
      ],
      "metadata": {
        "id": "qGxKkmmt3Yzm"
      },
      "execution_count": null,
      "outputs": []
    },
    {
      "cell_type": "code",
      "source": [
        "sol = Solution()\n",
        "sol.sameBirthday()"
      ],
      "metadata": {
        "colab": {
          "base_uri": "https://localhost:8080/"
        },
        "outputId": "8a5460ff-296b-4999-d0e5-23d52395e069",
        "id": "RO6sL1N43Yzo"
      },
      "execution_count": null,
      "outputs": [
        {
          "output_type": "execute_result",
          "data": {
            "text/plain": [
              "0.00851"
            ]
          },
          "metadata": {},
          "execution_count": 56
        }
      ]
    },
    {
      "cell_type": "code",
      "source": [
        "sol = Solution()\n",
        "sol.birthdayThreshold()"
      ],
      "metadata": {
        "colab": {
          "base_uri": "https://localhost:8080/"
        },
        "outputId": "3f5fb48e-4498-47cf-db14-25d497360732",
        "id": "SP1WLIA53Yzo"
      },
      "execution_count": null,
      "outputs": [
        {
          "output_type": "execute_result",
          "data": {
            "text/plain": [
              "23"
            ]
          },
          "metadata": {},
          "execution_count": 50
        }
      ]
    },
    {
      "cell_type": "code",
      "source": [
        "sol = Solution()\n",
        "sol.birthdayAsYou()"
      ],
      "metadata": {
        "colab": {
          "base_uri": "https://localhost:8080/"
        },
        "id": "VNy2emKO94G0",
        "outputId": "55a736aa-aadd-46e6-80f5-9a648d7f0817"
      },
      "execution_count": null,
      "outputs": [
        {
          "output_type": "execute_result",
          "data": {
            "text/plain": [
              "0.0056"
            ]
          },
          "metadata": {},
          "execution_count": 53
        }
      ]
    },
    {
      "cell_type": "code",
      "source": [
        "sol = Solution()\n",
        "sol.birthdayLine()"
      ],
      "metadata": {
        "colab": {
          "base_uri": "https://localhost:8080/"
        },
        "id": "UwxgO3rvKHu2",
        "outputId": "ef96f566-591d-4381-a24b-be7f04380e51"
      },
      "execution_count": null,
      "outputs": [
        {
          "output_type": "execute_result",
          "data": {
            "text/plain": [
              "21"
            ]
          },
          "metadata": {},
          "execution_count": 45
        }
      ]
    },
    {
      "cell_type": "code",
      "source": [
        "## Pirate Loot\n",
        "def pirateLoot(pirates = 5, coins = 100):\n",
        "  dp = [-1] * (pirates + 1)\n",
        "  dp[1] = coins\n",
        "  i = 1\n",
        "  while True:\n",
        "    if i+1 < pirates+1:\n",
        "      dp[i+1] = dp[i]\n",
        "    if i+2 < pirates+1:\n",
        "      dp[i+2] = dp[i] - 1\n",
        "    else:\n",
        "      break\n",
        "    i += 2\n",
        "  return dp[-1]"
      ],
      "metadata": {
        "id": "-df6V9KCQbMF"
      },
      "execution_count": null,
      "outputs": []
    },
    {
      "cell_type": "code",
      "source": [
        "pirateLoot()"
      ],
      "metadata": {
        "colab": {
          "base_uri": "https://localhost:8080/"
        },
        "id": "O_AVHXbfvOnk",
        "outputId": "fb72f3d0-7681-4a5a-de88-93399d24b2b8"
      },
      "execution_count": null,
      "outputs": [
        {
          "output_type": "execute_result",
          "data": {
            "text/plain": [
              "98"
            ]
          },
          "metadata": {},
          "execution_count": 206
        }
      ]
    },
    {
      "cell_type": "code",
      "source": [
        "## Royal Card Game\n",
        "def royalCardGame(iters = 100_000):\n",
        "  avg_val = royalCardGameHelper()\n",
        "  for i in range(2, iters + 1):\n",
        "    avg_val = avg_val *(i-1) / i + royalCardGameHelper() / i\n",
        "  return avg_val\n",
        "\n",
        "def royalCardGameHelper():\n",
        "  deck = [str(i) for i in range(2, 11)] + ['Jack', 'Queen', 'King', 'Ace', 'Joker']\n",
        "  random.shuffle(deck)\n",
        "  cards_pulled = set()\n",
        "  while deck:\n",
        "    card = random.sample(deck, k = 1)[0]\n",
        "    deck.remove(card)\n",
        "    if card == 'Joker':\n",
        "      for face in ['Jack', 'Queen', 'King']:\n",
        "        if face not in cards_pulled:\n",
        "          return 0\n",
        "      return 100\n",
        "    cards_pulled.add(card)\n"
      ],
      "metadata": {
        "id": "1kLycWZbQbP3"
      },
      "execution_count": null,
      "outputs": []
    },
    {
      "cell_type": "code",
      "source": [
        "royalCardGame()"
      ],
      "metadata": {
        "id": "I327sfNTSokv",
        "colab": {
          "base_uri": "https://localhost:8080/"
        },
        "outputId": "6c328d1c-e9b8-4d71-f4fd-01f128160a74"
      },
      "execution_count": null,
      "outputs": [
        {
          "output_type": "execute_result",
          "data": {
            "text/plain": [
              "25.01900000000013"
            ]
          },
          "metadata": {},
          "execution_count": 10
        }
      ]
    },
    {
      "cell_type": "code",
      "source": [
        "# help(random.sample)"
      ],
      "metadata": {
        "id": "AULU0GzRSopf"
      },
      "execution_count": null,
      "outputs": []
    },
    {
      "cell_type": "code",
      "source": [],
      "metadata": {
        "id": "aKNduX7cKNOW"
      },
      "execution_count": null,
      "outputs": []
    },
    {
      "cell_type": "code",
      "source": [],
      "metadata": {
        "id": "iOIqiwHdkpN1"
      },
      "execution_count": null,
      "outputs": []
    },
    {
      "cell_type": "markdown",
      "source": [
        "## Brain Stellar"
      ],
      "metadata": {
        "id": "5bahSBtYkpZ_"
      }
    },
    {
      "cell_type": "markdown",
      "source": [
        "The website is here: https://brainstellar.com/."
      ],
      "metadata": {
        "id": "6GH2FM8QQsVx"
      }
    },
    {
      "cell_type": "code",
      "source": [
        "## rolling the bullet\n",
        "def rollingBullet(rolling = True, iters = 100_000):\n",
        "  avg_value = rollingBulletHelper(rolling)\n",
        "  for i in range(2, iters+1):\n",
        "    avg_value = avg_value + (rollingBulletHelper(rolling) - avg_value) / i\n",
        "    # avg_value = avg_value *(i-1) / i + rollingBulletHelper() / i\n",
        "  return avg_value\n",
        "\n",
        "def rollingBulletHelper(rolling):\n",
        "  cylinder = ['b'] * 2 + ['o'] * 4\n",
        "  while cylinder[0] == 'b':\n",
        "    k = random.randint(1,len(cylinder))\n",
        "    cylinder = rotate(cylinder, k)\n",
        "  cylinder.pop(0)\n",
        "  if rolling:\n",
        "    k = random.randint(1,len(cylinder))\n",
        "    cylinder = rotate(cylinder, k)  ## bullets may be non-consecutive\n",
        "  return 1 if cylinder[0] == 'b' else 0\n",
        "\n",
        "def rotate(lst, k):\n",
        "  n = len(lst)\n",
        "  k = k % n\n",
        "  temp = lst[n-k:]\n",
        "  for i in range(n-k-1, -1, -1):\n",
        "    lst[i+k] = lst[i]\n",
        "  lst[0:k] = temp\n",
        "  return lst"
      ],
      "metadata": {
        "id": "sAcDnjrjKRFb"
      },
      "execution_count": null,
      "outputs": []
    },
    {
      "cell_type": "code",
      "source": [
        "rollingBulletHelper(rolling = True)"
      ],
      "metadata": {
        "colab": {
          "base_uri": "https://localhost:8080/"
        },
        "id": "WjGygG3SszJp",
        "outputId": "6c96b668-f23d-4c90-d7ed-8211e893f079"
      },
      "execution_count": null,
      "outputs": [
        {
          "output_type": "execute_result",
          "data": {
            "text/plain": [
              "1"
            ]
          },
          "metadata": {},
          "execution_count": 108
        }
      ]
    },
    {
      "cell_type": "code",
      "source": [
        "lst = [1,2,3,4]\n",
        "rotate(lst, 1)"
      ],
      "metadata": {
        "colab": {
          "base_uri": "https://localhost:8080/"
        },
        "id": "CtG_ZA-JkuEY",
        "outputId": "db68a5fd-a336-4f19-f8cf-bd540ccae526"
      },
      "execution_count": null,
      "outputs": [
        {
          "output_type": "execute_result",
          "data": {
            "text/plain": [
              "[4, 1, 2, 3]"
            ]
          },
          "metadata": {},
          "execution_count": 105
        }
      ]
    },
    {
      "cell_type": "code",
      "source": [
        "rollingBullet()"
      ],
      "metadata": {
        "colab": {
          "base_uri": "https://localhost:8080/"
        },
        "id": "mbosPCmEkuI_",
        "outputId": "ad089fed-ac05-4ad1-b7e4-50ff2fc40bbd"
      },
      "execution_count": null,
      "outputs": [
        {
          "output_type": "execute_result",
          "data": {
            "text/plain": [
              "0.4017899999999994"
            ]
          },
          "metadata": {},
          "execution_count": 106
        }
      ]
    },
    {
      "cell_type": "code",
      "source": [
        "## Lucky Candy (Balls in Urns)\n",
        "\n",
        "def luckyCandy(n = 50):\n",
        "  options = [(i,j) for i in range(n+1) for j in range(n+1)]\n",
        "  options.remove((0,0)) ## cannot divide by 0\n",
        "  options.remove((n,n))\n",
        "\n",
        "  max_prob = -1\n",
        "  for x,y in options: ## x is good candy, y is bad candy\n",
        "    prob = 0.5 * x / (x+y) + 0.5 * (n-x) / (n - x + n - y)\n",
        "    if prob > max_prob:\n",
        "      max_prob = prob\n",
        "      box1 , box2 = [x,y], [n-x, n-y]\n",
        "  return  [max_prob, box1, box2]"
      ],
      "metadata": {
        "id": "PCU5BZUydsNm"
      },
      "execution_count": null,
      "outputs": []
    },
    {
      "cell_type": "code",
      "source": [
        "luckyCandy()"
      ],
      "metadata": {
        "colab": {
          "base_uri": "https://localhost:8080/"
        },
        "id": "iLTX-b7Wdtij",
        "outputId": "7de5a340-a0ae-494f-c8ce-8095d4470dda"
      },
      "execution_count": null,
      "outputs": [
        {
          "output_type": "execute_result",
          "data": {
            "text/plain": [
              "[0.7474747474747475, [1, 0], [49, 50]]"
            ]
          },
          "metadata": {},
          "execution_count": 62
        }
      ]
    },
    {
      "cell_type": "code",
      "source": [
        "### All Girls World\n",
        "def allGirls(iters = 100_000):\n",
        "  result = 0\n",
        "  total = 0\n",
        "  for _ in range(iters):\n",
        "    g, b = allGirlsHelper()\n",
        "    result += g\n",
        "    total += b + g\n",
        "  return result / total\n",
        "\n",
        "def allGirlsHelper():\n",
        "  g, b = 0, 0\n",
        "  child = random.randint(0,1)\n",
        "  while child:\n",
        "    b += 1\n",
        "    child = random.randint(0,1)\n",
        "  g += 1\n",
        "  return g, b"
      ],
      "metadata": {
        "id": "FUnUFUwpkuWB"
      },
      "execution_count": null,
      "outputs": []
    },
    {
      "cell_type": "code",
      "source": [
        "allGirls()"
      ],
      "metadata": {
        "colab": {
          "base_uri": "https://localhost:8080/"
        },
        "id": "inaFWtMQuBsK",
        "outputId": "bd4c61c9-30c7-43e1-ae42-98fca0adfba2"
      },
      "execution_count": null,
      "outputs": [
        {
          "output_type": "execute_result",
          "data": {
            "text/plain": [
              "0.5009568275406026"
            ]
          },
          "metadata": {},
          "execution_count": 138
        }
      ]
    },
    {
      "cell_type": "code",
      "source": [
        "## Drunk Passenger\n",
        "\n",
        "### iterative (no trials)\n",
        "def drunkPassenger(n = 100):\n",
        "  pass_n = [0.5] * (n+1)\n",
        "  for i in range(3, n + 1):\n",
        "    pass_n[i] = (1/i) + (1/i) * sum(pass_n[2:i])\n",
        "  return pass_n[-1]\n",
        "\n",
        "\n",
        "#### multiple trials\n",
        "\n",
        "# def drunkPassenger(n = 100, iters = 100_000):\n",
        "#   avg_value = drunkPassengerHelper(n)\n",
        "#   for i in range(2, iters + 1):\n",
        "#     avg_value = avg_value * (i-1) / i + drunkPassengerHelper(n) / i\n",
        "#   return avg_value\n",
        "\n",
        "# def drunkPassengerHelper(n):\n",
        "#   chairs = [-1] * n\n",
        "#   for i in range(n):\n",
        "#     if i == 0 or chairs[i] != -1:\n",
        "#       chair = random.randint(0, n-1)\n",
        "#       while chairs[chair] != -1:\n",
        "#         chair = random.randint(0, n-1)\n",
        "#       chairs[chair] = i\n",
        "#     else:\n",
        "#       chairs[i] = i\n",
        "#   return 1 if chairs[n-1] == n-1 else 0"
      ],
      "metadata": {
        "id": "cXuB6JEJyGjI"
      },
      "execution_count": null,
      "outputs": []
    },
    {
      "cell_type": "code",
      "source": [
        "drunkPassenger()"
      ],
      "metadata": {
        "colab": {
          "base_uri": "https://localhost:8080/"
        },
        "id": "LnyNu-QoyGnz",
        "outputId": "f6b11fed-d32c-4902-e6e7-2aeae081c675"
      },
      "execution_count": null,
      "outputs": [
        {
          "output_type": "execute_result",
          "data": {
            "text/plain": [
              "0.5"
            ]
          },
          "metadata": {},
          "execution_count": 15
        }
      ]
    },
    {
      "cell_type": "code",
      "source": [
        "## random ratio\n",
        "def randomRatio(picture = True, iters = 100_000):\n",
        "  result = 0\n",
        "  x_points, y_points = [0] * iters, [0] * iters\n",
        "  xy_pointer = 0\n",
        "  for _ in range(iters):\n",
        "    x, y = random.uniform(0, 1), random.uniform(0,1)\n",
        "    if 1 <= x/ y <= 2:\n",
        "      result += 1\n",
        "      if picture:\n",
        "        x_points[xy_pointer] = x\n",
        "        y_points[xy_pointer] = y\n",
        "        xy_pointer += 1\n",
        "  if picture:\n",
        "    plt.plot(x_points[0:xy_pointer], y_points[0:xy_pointer])\n",
        "    plt.xlim([0,1])\n",
        "    plt.ylim([0,1])\n",
        "    plt.xlabel('X')\n",
        "    plt.ylabel('Y')\n",
        "    plt.title(f'$1 \\leq X/Y \\leq 2$')\n",
        "    plt.show()\n",
        "  return result / iters"
      ],
      "metadata": {
        "id": "aRwcMwncyGtr"
      },
      "execution_count": null,
      "outputs": []
    },
    {
      "cell_type": "code",
      "source": [
        "randomRatio()"
      ],
      "metadata": {
        "colab": {
          "base_uri": "https://localhost:8080/",
          "height": 489
        },
        "id": "oSCtfuc2uBwt",
        "outputId": "8600d6f8-2268-4dd6-a5c4-09f4949917b6"
      },
      "execution_count": null,
      "outputs": [
        {
          "output_type": "display_data",
          "data": {
            "text/plain": [
              "<Figure size 640x480 with 1 Axes>"
            ],
            "image/png": "[encoded data removed]"
          },
          "metadata": {}
        },
        {
          "output_type": "execute_result",
          "data": {
            "text/plain": [
              "0.25089"
            ]
          },
          "metadata": {},
          "execution_count": 175
        }
      ]
    },
    {
      "cell_type": "code",
      "source": [
        "## second chance\n",
        "def secondChance(chances = 2):\n",
        "  die = [i for i in range(1,6+1)]\n",
        "  EV = sum(die) / len(die)\n",
        "  for i in range(2, chances + 1):\n",
        "    die = [EV if EV > i else i for i in die]\n",
        "    EV = sum(die) / len(die)\n",
        "  return EV"
      ],
      "metadata": {
        "id": "9NSU3pFZ2SRL"
      },
      "execution_count": null,
      "outputs": []
    },
    {
      "cell_type": "code",
      "source": [
        "secondChance()"
      ],
      "metadata": {
        "colab": {
          "base_uri": "https://localhost:8080/"
        },
        "id": "ydehszaj2SWW",
        "outputId": "8f0c3596-fb89-4a2d-8d39-c20c969d0300"
      },
      "execution_count": null,
      "outputs": [
        {
          "output_type": "execute_result",
          "data": {
            "text/plain": [
              "4.25"
            ]
          },
          "metadata": {},
          "execution_count": 179
        }
      ]
    },
    {
      "cell_type": "code",
      "source": [
        "for chances in range(1, 10+1):\n",
        "  print(f'{chances} chances: EV = {secondChance(chances = chances):0.3f}')"
      ],
      "metadata": {
        "colab": {
          "base_uri": "https://localhost:8080/"
        },
        "id": "PvIl69Kp2SbN",
        "outputId": "31bbaeb2-3597-47cd-a58f-26fe9b9c0a04"
      },
      "execution_count": null,
      "outputs": [
        {
          "output_type": "stream",
          "name": "stdout",
          "text": [
            "1 chances: EV = 3.500\n",
            "2 chances: EV = 4.250\n",
            "3 chances: EV = 4.667\n",
            "4 chances: EV = 4.944\n",
            "5 chances: EV = 5.130\n",
            "6 chances: EV = 5.275\n",
            "7 chances: EV = 5.396\n",
            "8 chances: EV = 5.496\n",
            "9 chances: EV = 5.580\n",
            "10 chances: EV = 5.650\n"
          ]
        }
      ]
    },
    {
      "cell_type": "code",
      "source": [
        "## Number of Double Heads\n",
        "\n",
        "def doubleHeadsIter(tosses = 10, iters = 100_000):\n",
        "  avg_val = doubleHeadsIterHelper(tosses)\n",
        "  for i in range(2, iters + 1):\n",
        "    avg_val = avg_val * (i-1) / i + doubleHeadsIterHelper(tosses) / i\n",
        "  return avg_val\n",
        "\n",
        "def doubleHeadsIterHelper(tosses):\n",
        "  count = 0\n",
        "  flips = [random.randint(0,1) for _ in range(10)]\n",
        "  for i in range(tosses - 1):\n",
        "    if flips[i] == flips[i+1] == 1:\n",
        "      count += 1\n",
        "  return count\n",
        "\n",
        "def doubleHeadsRecur(tosses = 10, iters = 100_000):\n",
        "  avg_val = doubleHeadsRecurHelper(tosses)\n",
        "  for i in range(2, iters + 1):\n",
        "    avg_val = avg_val * (i-1) / i + doubleHeadsRecurHelper(tosses) / i\n",
        "  return avg_val\n",
        "\n",
        "def doubleHeadsRecurHelper(tosses):\n",
        "  if tosses == 1:\n",
        "    return 0\n",
        "  coin = random.randint(0,1)\n",
        "  if not coin:\n",
        "    return doubleHeadsRecurHelper(tosses-1)\n",
        "  else:\n",
        "    coin = random.randint(0,1)\n",
        "    if not coin:\n",
        "      return doubleHeadsRecurHelper(tosses-1)\n",
        "    else:\n",
        "      return doubleHeadsRecurHelper(tosses-1) + 1"
      ],
      "metadata": {
        "id": "NW_yt2jf2Ske"
      },
      "execution_count": null,
      "outputs": []
    },
    {
      "cell_type": "code",
      "source": [
        "doubleHeadsIter()"
      ],
      "metadata": {
        "colab": {
          "base_uri": "https://localhost:8080/"
        },
        "id": "OaEZH89N2Spa",
        "outputId": "8a2a2b39-45cc-4833-f1dd-8df8db708b1a"
      },
      "execution_count": null,
      "outputs": [
        {
          "output_type": "execute_result",
          "data": {
            "text/plain": [
              "2.253309999999945"
            ]
          },
          "metadata": {},
          "execution_count": 198
        }
      ]
    },
    {
      "cell_type": "code",
      "source": [
        "doubleHeadsRecur()"
      ],
      "metadata": {
        "colab": {
          "base_uri": "https://localhost:8080/"
        },
        "id": "KFIJxxTkuB1N",
        "outputId": "acb5d6fd-1122-4130-bb8c-da2a51442845"
      },
      "execution_count": null,
      "outputs": [
        {
          "output_type": "execute_result",
          "data": {
            "text/plain": [
              "2.251330000000061"
            ]
          },
          "metadata": {},
          "execution_count": 199
        }
      ]
    },
    {
      "cell_type": "code",
      "source": [
        "## sum to one\n",
        "def sumToOne(iters = 100_000):\n",
        "  EV = sumToOneHelper()\n",
        "  for i in range(2, iters + 1):\n",
        "    EV += (sumToOneHelper() - EV) / i\n",
        "  return EV\n",
        "\n",
        "def sumToOneHelper():\n",
        "  count = 0\n",
        "  sum_val = 0\n",
        "  while sum_val <= 1:\n",
        "    x = random.uniform(0,1)\n",
        "    sum_val += x\n",
        "    count += 1\n",
        "  return count"
      ],
      "metadata": {
        "id": "ab2L8r4aA8Dq"
      },
      "execution_count": null,
      "outputs": []
    },
    {
      "cell_type": "code",
      "source": [
        "sumToOne()"
      ],
      "metadata": {
        "colab": {
          "base_uri": "https://localhost:8080/"
        },
        "id": "sTc3RbUIA8KS",
        "outputId": "e0087720-d734-4a5c-9fe7-348a24417957"
      },
      "execution_count": null,
      "outputs": [
        {
          "output_type": "execute_result",
          "data": {
            "text/plain": [
              "2.7164700000000006"
            ]
          },
          "metadata": {},
          "execution_count": 207
        }
      ]
    },
    {
      "cell_type": "code",
      "source": [
        "## Random Walk\n",
        "\n",
        "def randomWalk(a, b, iters = 100_000):\n",
        "  avg_val = randomWalkHelper(a,b)\n",
        "  for i in tqdm(range(2, iters + 1)):\n",
        "    avg_val = avg_val * (i-1) / i + randomWalkHelper(a,b) / i\n",
        "  return avg_val\n",
        "\n",
        "def randomWalkHelper(a,b):\n",
        "  pointer = 0\n",
        "  while b < pointer < a:\n",
        "    step = random.choice([-1,1])\n",
        "    pointer += step\n",
        "  return 1 if pointer == a else 0"
      ],
      "metadata": {
        "id": "wg9DbHgFA8Pz"
      },
      "execution_count": null,
      "outputs": []
    },
    {
      "cell_type": "code",
      "source": [
        "a, b = 2, -3\n",
        "# a,b  = 83, -17\n",
        "randomWalk(a, b)"
      ],
      "metadata": {
        "colab": {
          "base_uri": "https://localhost:8080/"
        },
        "id": "brh_5PB6GqoG",
        "outputId": "0cb391e8-47a9-437e-caf0-e6cf9140f7e6"
      },
      "execution_count": null,
      "outputs": [
        {
          "output_type": "stream",
          "name": "stderr",
          "text": [
            "100%|██████████| 99999/99999 [00:00<00:00, 120169.34it/s]\n"
          ]
        },
        {
          "output_type": "execute_result",
          "data": {
            "text/plain": [
              "0.600370000000003"
            ]
          },
          "metadata": {},
          "execution_count": 33
        }
      ]
    },
    {
      "cell_type": "code",
      "source": [
        "## P_a = b / (a+b)\n",
        "abs(b) / (a+abs(b))"
      ],
      "metadata": {
        "colab": {
          "base_uri": "https://localhost:8080/"
        },
        "id": "oA1JA7rBGqtf",
        "outputId": "c0c69d3d-b5a7-4bec-fcb5-1700c8310c25"
      },
      "execution_count": null,
      "outputs": [
        {
          "output_type": "execute_result",
          "data": {
            "text/plain": [
              "0.6"
            ]
          },
          "metadata": {},
          "execution_count": 232
        }
      ]
    },
    {
      "cell_type": "code",
      "source": [
        "## breaking stick\n",
        "def breakingStickSim(iters = 100_000):\n",
        "  def simulation():\n",
        "    for _ in range(iters):\n",
        "      x = random.uniform(0,1)\n",
        "      smaller_piece = min(x, 1-x)\n",
        "      return smaller_piece\n",
        "  avg_val = simulation()\n",
        "  for i in range(2, iters + 1):\n",
        "    avg_val = avg_val * (i-1) / i + simulation() / i\n",
        "  return avg_val"
      ],
      "metadata": {
        "id": "ky0p4p9bGqy7"
      },
      "execution_count": null,
      "outputs": []
    },
    {
      "cell_type": "code",
      "source": [
        "breakingStickSim()"
      ],
      "metadata": {
        "id": "ZsAz3gFgGq4D",
        "colab": {
          "base_uri": "https://localhost:8080/"
        },
        "outputId": "88ab8209-ce48-4323-c335-7d94fc00fe82"
      },
      "execution_count": null,
      "outputs": [
        {
          "output_type": "execute_result",
          "data": {
            "text/plain": [
              "0.2506549816099686"
            ]
          },
          "metadata": {},
          "execution_count": 20
        }
      ]
    },
    {
      "cell_type": "code",
      "source": [],
      "metadata": {
        "id": "w1Z1e6dWGq8w"
      },
      "execution_count": null,
      "outputs": []
    },
    {
      "cell_type": "code",
      "source": [],
      "metadata": {
        "id": "sfj2Idx2GrCo"
      },
      "execution_count": null,
      "outputs": []
    },
    {
      "cell_type": "markdown",
      "source": [
        "## The Green Book"
      ],
      "metadata": {
        "id": "5h3P8CIDkvp5"
      }
    },
    {
      "cell_type": "code",
      "source": [
        "## chess tournament\n",
        "\n",
        "def chessTournament(n = 5):\n",
        "  ### 1 and 2 must be in different brackets\n",
        "  ### place 1 in bracket1, there are 0.5 * 2 **n places in bracket2\n",
        "  ### total spots 2 ** n -1 (exclude spot for 1)\n",
        "  return 0.5 * 2 ** n / (2 ** n -1)\n",
        "\n",
        "\n",
        "# def chessTournament(n = 5, iters = 100_000):\n",
        "#   avg_value = chessTournamentHelper(n)\n",
        "#   for i in range(2, iters + 1):\n",
        "#     avg_value += (chessTournamentHelper(n) - avg_value) / i\n",
        "#   return avg_value\n",
        "\n",
        "# def chessTournamentHelper(n):\n",
        "#   players = [i for i in range(1, 2**n +1)]\n",
        "#   random.shuffle(players)\n",
        "#   bracket1, bracket2 = players[0:2**n//2 +1], players[2**n//2 +1:]\n",
        "#   if 1 in bracket1 and 2 in bracket1:\n",
        "#     return 0\n",
        "#   elif 1 in bracket2 and 2 in bracket2:\n",
        "#     return 0\n",
        "#   return 1"
      ],
      "metadata": {
        "id": "xRRuUyarYMI0"
      },
      "execution_count": null,
      "outputs": []
    },
    {
      "cell_type": "code",
      "source": [
        "chessTournament()"
      ],
      "metadata": {
        "colab": {
          "base_uri": "https://localhost:8080/"
        },
        "id": "vBcXeVVzbFZM",
        "outputId": "bb980008-2ce8-4b1e-c290-ee039e01ad07"
      },
      "execution_count": null,
      "outputs": [
        {
          "output_type": "execute_result",
          "data": {
            "text/plain": [
              "0.5161290322580645"
            ]
          },
          "metadata": {},
          "execution_count": 45
        }
      ]
    },
    {
      "cell_type": "code",
      "source": [
        "## Applications letters\n",
        "def frequentist(n = 5, trials = 100_000):\n",
        "  count = 0\n",
        "  for i in range(trials):\n",
        "    count += frequentistHelper(n)\n",
        "  return count / trials\n",
        "\n",
        "def frequentistHelper(n):\n",
        "  letters = [i for i in range(n)]\n",
        "  random.shuffle(letters)\n",
        "  for letter, envelope in enumerate(letters):\n",
        "    if letter == envelope:\n",
        "      return 0\n",
        "  return 1\n",
        "\n",
        "def inclusionExclusion(n = 5):\n",
        "  ## inclusion exclusion\n",
        "  p_union = 0\n",
        "  for k in range(1,n+1):\n",
        "    p_union += (-1) ** (k+1) * nChoosek(n, k) * factorial(n - k) / factorial(n)\n",
        "  return 1 - p_union\n",
        "\n",
        "def derangement(n = 5):\n",
        "  ## derangement\n",
        "  result = 0\n",
        "  for i in range(n+1):\n",
        "    result += (-1) ** i / factorial(i)\n",
        "  return result\n",
        "\n",
        "def nChoosek(n,k):\n",
        "  if k > n:\n",
        "    raise ValueError(\"Make sure n >= k.\")\n",
        "  result = 1\n",
        "  if n-k < k:\n",
        "    k = n-k   ## (n k) = (n n-k)\n",
        "  for i in range(1, k+1):\n",
        "    result *= n - i + 1\n",
        "    result //= i  ## use // to get integer\n",
        "  return result\n",
        "\n",
        "def factorial(n):\n",
        "  if n < 0:\n",
        "    raise ValueError('Make sure the input is nonnegative.')\n",
        "  result = 1\n",
        "  for i in range(2, n+1):\n",
        "    result *= i\n",
        "  return result"
      ],
      "metadata": {
        "id": "Ew9Kbc8tysRH"
      },
      "execution_count": null,
      "outputs": []
    },
    {
      "cell_type": "code",
      "source": [
        "print(factorial(4))\n",
        "print(nChoosek(5,3))\n",
        "print(inclusionExclusion())\n",
        "print(derangement())\n",
        "print(frequentist())"
      ],
      "metadata": {
        "colab": {
          "base_uri": "https://localhost:8080/"
        },
        "id": "gNlZZ5ndywc6",
        "outputId": "c3606649-e186-4abc-9963-e085660ad573"
      },
      "execution_count": null,
      "outputs": [
        {
          "output_type": "stream",
          "name": "stdout",
          "text": [
            "24\n",
            "10\n",
            "0.3666666666666667\n",
            "0.3666666666666667\n",
            "0.36572\n"
          ]
        }
      ]
    },
    {
      "cell_type": "code",
      "source": [
        "## unfair coin\n",
        "def unfairCoin(n_coins = 1000, n_unfair = 1, n_heads = 10):\n",
        "  ## bayes formula\n",
        "  given_unfair = 1 * (n_unfair / n_coins)\n",
        "  given_fair = 0.5 ** n_heads * (n_coins - n_unfair) / n_coins\n",
        "  return given_unfair / (given_unfair + given_fair)"
      ],
      "metadata": {
        "id": "T2um4y0W_5pW"
      },
      "execution_count": null,
      "outputs": []
    },
    {
      "cell_type": "code",
      "source": [
        "unfairCoin()"
      ],
      "metadata": {
        "colab": {
          "base_uri": "https://localhost:8080/"
        },
        "id": "pNW_u1ygEyxR",
        "outputId": "13554100-87f1-4a4b-e94b-acbfccf0d8cd"
      },
      "execution_count": null,
      "outputs": [
        {
          "output_type": "execute_result",
          "data": {
            "text/plain": [
              "0.5061789421651013"
            ]
          },
          "metadata": {},
          "execution_count": 35
        }
      ]
    },
    {
      "cell_type": "code",
      "source": [
        "## candies in a jar\n",
        "def candiesJar(red=10, blue=20, green=30):\n",
        "  total = red + blue + green\n",
        "  given_green_last = green /  total * blue / (red + blue)\n",
        "  given_blue_last = blue / total * green / (red + green)\n",
        "  return given_green_last + given_blue_last\n",
        "\n",
        "def candiesJarTrials(red=10, blue=20, green=30, trials = 100_000):\n",
        "  def trial():\n",
        "    jar = ['red'] * red + ['blue'] * blue + ['green'] * green\n",
        "    random.shuffle(jar)\n",
        "    candy_count = dict()\n",
        "    for candy in jar[::-1]:\n",
        "      candy_count[candy] = candy_count.get(candy, 0) + 1\n",
        "      if candy == 'red':\n",
        "        if candy_count.get('blue', 0) > 0 and candy_count.get('green', 0) > 0:\n",
        "          return 1\n",
        "        return 0\n",
        "\n",
        "  avg_count = trial()\n",
        "  for i in range(2,trials+1):\n",
        "    avg_count = avg_count * (i-1) / i + trial() / i\n",
        "  return avg_count"
      ],
      "metadata": {
        "id": "Njg5g3zOGgmG"
      },
      "execution_count": null,
      "outputs": []
    },
    {
      "cell_type": "code",
      "source": [
        "candiesJar()"
      ],
      "metadata": {
        "colab": {
          "base_uri": "https://localhost:8080/"
        },
        "id": "aiU2jyCLOMtY",
        "outputId": "4339b00d-2b23-4683-eec5-0c71cf843bf8"
      },
      "execution_count": null,
      "outputs": [
        {
          "output_type": "execute_result",
          "data": {
            "text/plain": [
              "0.5833333333333333"
            ]
          },
          "metadata": {},
          "execution_count": 47
        }
      ]
    },
    {
      "cell_type": "code",
      "source": [
        "candiesJarTrials()"
      ],
      "metadata": {
        "colab": {
          "base_uri": "https://localhost:8080/"
        },
        "id": "pQ0gI0EIQVQm",
        "outputId": "111b8fc0-0c93-4f0c-c70d-10360d0fc07c"
      },
      "execution_count": null,
      "outputs": [
        {
          "output_type": "execute_result",
          "data": {
            "text/plain": [
              "0.5819700000000072"
            ]
          },
          "metadata": {},
          "execution_count": 50
        }
      ]
    },
    {
      "cell_type": "code",
      "source": [
        "## Aces\n",
        "suits = ['S', 'C', 'D', 'H']\n",
        "ranks = ['A', '2', '3', '4', '5', '6', '7', '8', '9', '10', 'J', 'Q', 'K']\n",
        "\n",
        "class Deck:\n",
        "    def __init__(self):\n",
        "        \"\"\"Initialize a deck of cards\"\"\"\n",
        "        self.cards = [(rank, suit) for rank in ranks for suit in suits]\n",
        "\n",
        "    def shuffle(self):\n",
        "        \"\"\"Shuffle a deck of cards\"\"\"\n",
        "        random.shuffle(self.cards)\n",
        "\n",
        "    def draw(self):\n",
        "        \"\"\"Draw a card from the deck\"\"\"\n",
        "        return self.cards.pop(0)\n",
        "\n",
        "    def isEmpty(self):\n",
        "        \"\"\"Check if the deck has cards\"\"\"\n",
        "        return self.cards == []\n",
        "\n",
        "def acesSimulation(trials = 100_000):\n",
        "  def countAces(card_drawn, aces_count):\n",
        "    if card_drawn == 'A':\n",
        "      return aces_count + 1\n",
        "    return aces_count\n",
        "\n",
        "  def simulation():\n",
        "    players = [0 for i in range(4)] ## count aces of each player\n",
        "    deck = Deck()\n",
        "    deck.shuffle()\n",
        "    while not deck.isEmpty():\n",
        "      for i, player in enumerate(players):\n",
        "        rank, suit = deck.draw()\n",
        "        players[i] = countAces(rank, player)\n",
        "    if 0 in players:\n",
        "      return 0\n",
        "    return 1\n",
        "\n",
        "  avg_count = simulation()\n",
        "  for i in range(2,trials+1):\n",
        "    avg_count = avg_count * (i-1) / i + simulation() / i\n",
        "  return avg_count\n",
        "\n",
        "def aces():\n",
        "  result = 1\n",
        "  for i in range(4):\n",
        "    result *= 13 * (4 - i) / (52 - i)\n",
        "  return result"
      ],
      "metadata": {
        "id": "5rhrxtg7Sodf"
      },
      "execution_count": null,
      "outputs": []
    },
    {
      "cell_type": "code",
      "source": [
        "acesSimulation()"
      ],
      "metadata": {
        "colab": {
          "base_uri": "https://localhost:8080/"
        },
        "id": "PTZ_im_JSoi9",
        "outputId": "3ee864b8-73cf-4aa5-a12c-8d1b9287d7cd"
      },
      "execution_count": null,
      "outputs": [
        {
          "output_type": "execute_result",
          "data": {
            "text/plain": [
              "0.10487000000000012"
            ]
          },
          "metadata": {},
          "execution_count": 70
        }
      ]
    },
    {
      "cell_type": "code",
      "source": [
        "aces()"
      ],
      "metadata": {
        "colab": {
          "base_uri": "https://localhost:8080/"
        },
        "id": "nGDpBDCwXWLa",
        "outputId": "462b206c-5e25-413b-c31a-aa302b7362a5"
      },
      "execution_count": null,
      "outputs": [
        {
          "output_type": "execute_result",
          "data": {
            "text/plain": [
              "0.1054981992797119"
            ]
          },
          "metadata": {},
          "execution_count": 71
        }
      ]
    },
    {
      "cell_type": "code",
      "source": [
        "## Meeting Probability\n",
        "def meetingProb(a = 0, b = 60, restriction = 5, picture = True, iters = 100_000):\n",
        "  region = 0\n",
        "  # x_points, y_points = [], []\n",
        "  x_points, y_points = [0] * iters, [0] * iters\n",
        "  xy_pointer = 0\n",
        "  for _ in range(iters):\n",
        "    x = random.uniform(a,b)\n",
        "    y = random.uniform(a,b)\n",
        "    if abs(x - y) <= restriction:\n",
        "      region += 1\n",
        "      if picture:\n",
        "        # x_points.append(x)\n",
        "        # y_points.append(y)\n",
        "        x_points[xy_pointer] = x\n",
        "        y_points[xy_pointer] = y\n",
        "        xy_pointer += 1\n",
        "  if picture:\n",
        "    plt.plot(x_points[0:xy_pointer], y_points[0:xy_pointer])\n",
        "    plt.xlim([a,b])\n",
        "    plt.ylim([a,b])\n",
        "    plt.xlabel('X')\n",
        "    plt.ylabel('Y')\n",
        "    plt.title(f'$|X-Y| \\leq {restriction}$')\n",
        "    plt.show()\n",
        "  return region / iters"
      ],
      "metadata": {
        "id": "0reJnFzhKYKt"
      },
      "execution_count": null,
      "outputs": []
    },
    {
      "cell_type": "code",
      "source": [
        "meetingProb()"
      ],
      "metadata": {
        "colab": {
          "base_uri": "https://localhost:8080/",
          "height": 491
        },
        "id": "VECy4b7B6_4u",
        "outputId": "7a7a08d2-b7c4-4e7b-c30b-4123d4781f0a"
      },
      "execution_count": null,
      "outputs": [
        {
          "output_type": "display_data",
          "data": {
            "text/plain": [
              "<Figure size 640x480 with 1 Axes>"
            ],
            "image/png": "[encoded data removed]"
          },
          "metadata": {}
        },
        {
          "output_type": "execute_result",
          "data": {
            "text/plain": [
              "0.16009"
            ]
          },
          "metadata": {},
          "execution_count": 67
        }
      ]
    },
    {
      "cell_type": "code",
      "source": [
        "23/144"
      ],
      "metadata": {
        "colab": {
          "base_uri": "https://localhost:8080/"
        },
        "id": "JFamiyC_6_9K",
        "outputId": "3867dcf3-6cae-4d1c-f055-b1b8d26943ab"
      },
      "execution_count": null,
      "outputs": [
        {
          "output_type": "execute_result",
          "data": {
            "text/plain": [
              "0.1597222222222222"
            ]
          },
          "metadata": {},
          "execution_count": 22
        }
      ]
    },
    {
      "cell_type": "code",
      "source": [
        "## Witches at the Coffee Shop (brain stellar)\n",
        "meetingProb(a = 0, b = 1, restriction = 0.5)"
      ],
      "metadata": {
        "colab": {
          "base_uri": "https://localhost:8080/",
          "height": 491
        },
        "id": "ZXiGbUpUKJyw",
        "outputId": "51d5a300-e314-4756-e995-c321fd5bdef7"
      },
      "execution_count": null,
      "outputs": [
        {
          "output_type": "display_data",
          "data": {
            "text/plain": [
              "<Figure size 640x480 with 1 Axes>"
            ],
            "image/png": "[encoded data removed]"
          },
          "metadata": {}
        },
        {
          "output_type": "execute_result",
          "data": {
            "text/plain": [
              "0.74922"
            ]
          },
          "metadata": {},
          "execution_count": 68
        }
      ]
    },
    {
      "cell_type": "code",
      "source": [
        "## probability of triangle, stick to triangle (brainstellar)\n",
        "def probOfTriangle(picture = True, iters = 100_000):\n",
        "  result = 0\n",
        "  x_points, y_points = [], []\n",
        "  for _ in range(iters):\n",
        "    x, y = random.uniform(0,1), random.uniform(0,1)\n",
        "    x, y = min(x,y), max(x,y)\n",
        "    stick1, stick2, stick3 = x, y-x, 1-y\n",
        "    cond1 = stick1 + stick2 > stick3\n",
        "    cond2 = stick1 + stick3 > stick2\n",
        "    cond3 = stick2 + stick3 > stick1\n",
        "    if cond1 and cond2 and cond3:\n",
        "      result += 1\n",
        "      if picture:\n",
        "        x_points.append(x)\n",
        "        y_points.append(y)\n",
        "  if picture:\n",
        "    plt.plot(x_points, y_points, 'b')\n",
        "    plt.plot(y_points, x_points, 'b') ## by symmetry\n",
        "    plt.xlim([0,1])\n",
        "    plt.ylim([0,1])\n",
        "    plt.xlabel('X')\n",
        "    plt.ylabel('Y')\n",
        "    plt.title(f'Probability of Triangle')\n",
        "    plt.show()\n",
        "  return result / iters"
      ],
      "metadata": {
        "id": "JTu7spYJ7ABQ"
      },
      "execution_count": null,
      "outputs": []
    },
    {
      "cell_type": "code",
      "source": [
        "probOfTriangle()"
      ],
      "metadata": {
        "colab": {
          "base_uri": "https://localhost:8080/",
          "height": 489
        },
        "id": "nu-xdVqr_tWo",
        "outputId": "c5222242-87f1-42b2-e5e7-c599e6994d80"
      },
      "execution_count": null,
      "outputs": [
        {
          "output_type": "display_data",
          "data": {
            "text/plain": [
              "<Figure size 640x480 with 1 Axes>"
            ],
            "image/png": "[encoded data removed]"
          },
          "metadata": {}
        },
        {
          "output_type": "execute_result",
          "data": {
            "text/plain": [
              "0.25007"
            ]
          },
          "metadata": {},
          "execution_count": 25
        }
      ]
    },
    {
      "cell_type": "code",
      "source": [
        "## gambler's ruin\n",
        "\n",
        "def gamblersRuinSimulation(iters = 100_000):\n",
        "  '''\n",
        "  prob that the person that starts with 1 dollar wins\n",
        "  '''\n",
        "  def simulation():\n",
        "    money = 1\n",
        "    while 0 < money < 3:\n",
        "      money += random.choice([1,1,-1])\n",
        "    return 1 if money == 3 else 0\n",
        "\n",
        "  avg_count = simulation()\n",
        "  for i in range(2, iters+1):\n",
        "    avg_count = avg_count * (i-1) / i + simulation() / i\n",
        "  return avg_count"
      ],
      "metadata": {
        "id": "3Tos9ypkkuga"
      },
      "execution_count": null,
      "outputs": []
    },
    {
      "cell_type": "code",
      "source": [
        "gamblersRuinSimulation()"
      ],
      "metadata": {
        "id": "E2adl-HWkyhy",
        "colab": {
          "base_uri": "https://localhost:8080/"
        },
        "outputId": "dc0d9571-7e13-4a23-9ba0-d92f2a64ffc3"
      },
      "execution_count": null,
      "outputs": [
        {
          "output_type": "execute_result",
          "data": {
            "text/plain": [
              "0.5720700000000106"
            ]
          },
          "metadata": {},
          "execution_count": 5
        }
      ]
    },
    {
      "cell_type": "code",
      "source": [
        "4/7"
      ],
      "metadata": {
        "id": "Kvyf8bl0kymW",
        "colab": {
          "base_uri": "https://localhost:8080/"
        },
        "outputId": "e548e682-236c-4648-fb74-e0f30b2bcd9c"
      },
      "execution_count": null,
      "outputs": [
        {
          "output_type": "execute_result",
          "data": {
            "text/plain": [
              "0.5714285714285714"
            ]
          },
          "metadata": {},
          "execution_count": 6
        }
      ]
    },
    {
      "cell_type": "code",
      "source": [],
      "metadata": {
        "id": "QQlgDtwRkulF"
      },
      "execution_count": null,
      "outputs": []
    },
    {
      "cell_type": "code",
      "source": [],
      "metadata": {
        "id": "EBVV4soKACMS"
      },
      "execution_count": null,
      "outputs": []
    },
    {
      "cell_type": "code",
      "source": [],
      "metadata": {
        "id": "yErdyaanACSw"
      },
      "execution_count": null,
      "outputs": []
    },
    {
      "cell_type": "markdown",
      "source": [
        "## Probability Puzzles App"
      ],
      "metadata": {
        "id": "tCIUor8mMto_"
      }
    },
    {
      "cell_type": "markdown",
      "source": [
        "The probability puzzles we look at are from https://github.com/atorch/probability_puzzles. We focus on simulations here. Analytic solutions can be seen here https://github.com/hongwai1920/Probability-Puzzles."
      ],
      "metadata": {
        "id": "6FtvUgbhI9L6"
      }
    },
    {
      "cell_type": "markdown",
      "source": [
        "Stats module: https://docs.scipy.org/doc/scipy/reference/stats.html#probability-distributions"
      ],
      "metadata": {
        "id": "PObHbCnkKVV2"
      }
    },
    {
      "cell_type": "markdown",
      "source": [
        "### Level: Getting Serious"
      ],
      "metadata": {
        "id": "EFq-rI-9JeMF"
      }
    },
    {
      "cell_type": "code",
      "source": [
        "## 1\n",
        "class Solution:\n",
        "  def tosses(self, trials = 100_000):\n",
        "    # result = [0] * trials\n",
        "    mean_result = 0\n",
        "    for i in range(trials):\n",
        "      count = 0\n",
        "      X = 0\n",
        "      while X < 5:\n",
        "        X = random.randint(1,6)\n",
        "        count += 1\n",
        "      # result[i] = count\n",
        "      if i == 0:\n",
        "        mean_result = count\n",
        "      else:\n",
        "        mean_result = mean_result * ((i)/(i+1)) + count / (i+1)\n",
        "    # return result\n",
        "    return mean_result"
      ],
      "metadata": {
        "id": "f0qHtvsdJbAU"
      },
      "execution_count": null,
      "outputs": []
    },
    {
      "cell_type": "code",
      "source": [
        "sol = Solution()\n",
        "tosses_trials = sol.tosses()\n",
        "tosses_trials\n",
        "# np.mean(tosses_trials)"
      ],
      "metadata": {
        "colab": {
          "base_uri": "https://localhost:8080/"
        },
        "id": "U143OX1VJblu",
        "outputId": "b960c772-54f2-44f7-dabe-b921661be30e"
      },
      "execution_count": null,
      "outputs": [
        {
          "output_type": "execute_result",
          "data": {
            "text/plain": [
              "2.995330000000003"
            ]
          },
          "metadata": {},
          "execution_count": 6
        }
      ]
    },
    {
      "cell_type": "code",
      "source": [
        "### use median data stream algo: max heap and min heap\n",
        "# np.median(tosses_trials)"
      ],
      "metadata": {
        "id": "PeXRTR9tJboT"
      },
      "execution_count": null,
      "outputs": []
    },
    {
      "cell_type": "code",
      "source": [
        "## puzzle 2\n",
        "class Solution:\n",
        "  def sameBirthday(self, n = 3 ,trials = 100_000):\n",
        "    count = 0\n",
        "    for trial in range(trials):\n",
        "      count += self.birthdayHelper(n)\n",
        "    return count / trials\n",
        "\n",
        "\n",
        "  def birthdayHelper(self, n):\n",
        "    people = [random.randint(1,365) for _ in range(n)]\n",
        "    if len(people) == len(set(people)):\n",
        "      return 0\n",
        "    return 1"
      ],
      "metadata": {
        "id": "3fUYPpnRWPIe"
      },
      "execution_count": null,
      "outputs": []
    },
    {
      "cell_type": "code",
      "source": [
        "sol = Solution()\n",
        "sol.sameBirthday()"
      ],
      "metadata": {
        "colab": {
          "base_uri": "https://localhost:8080/"
        },
        "id": "-Xr5m2OgX1r1",
        "outputId": "e73e3675-b0e5-4547-f915-57257cdf4287"
      },
      "execution_count": null,
      "outputs": [
        {
          "output_type": "execute_result",
          "data": {
            "text/plain": [
              "0.00816"
            ]
          },
          "metadata": {},
          "execution_count": 13
        }
      ]
    },
    {
      "cell_type": "code",
      "source": [
        "## puzzle 3\n",
        "sol = Solution()\n",
        "n = 20\n",
        "p = 0\n",
        "while p < 0.50:\n",
        "  n += 1\n",
        "  p = sol.sameBirthday(n = n)\n",
        "print(n)"
      ],
      "metadata": {
        "colab": {
          "base_uri": "https://localhost:8080/"
        },
        "id": "RQgXGAE_YM59",
        "outputId": "0d4199d6-6698-41ad-90dc-6f48f6ba7ba3"
      },
      "execution_count": null,
      "outputs": [
        {
          "output_type": "stream",
          "name": "stdout",
          "text": [
            "23\n"
          ]
        }
      ]
    },
    {
      "cell_type": "code",
      "source": [
        "## puzzle 4\n",
        "class Solution:\n",
        "  def toss(self, trials = 10_000):\n",
        "    mean_result = 0\n",
        "    for i in range(trials):\n",
        "      count = 0\n",
        "      X = 0\n",
        "      prev = 0\n",
        "      while X != 1 or prev !=1:\n",
        "        prev = X\n",
        "        X = random.randint(0,1)\n",
        "        count += 1\n",
        "      if i == 0:\n",
        "        mean_result = count\n",
        "      else:\n",
        "        mean_result = mean_result * ((i)/(i+1)) + count / (i+1)\n",
        "    return mean_result"
      ],
      "metadata": {
        "id": "2DqT-DdcJbsQ"
      },
      "execution_count": null,
      "outputs": []
    },
    {
      "cell_type": "code",
      "source": [
        "sol = Solution()\n",
        "sol.toss()"
      ],
      "metadata": {
        "colab": {
          "base_uri": "https://localhost:8080/"
        },
        "id": "SDycILxvJbuw",
        "outputId": "57b24cb4-4417-4602-b89c-ef1f3ae372a1"
      },
      "execution_count": null,
      "outputs": [
        {
          "output_type": "execute_result",
          "data": {
            "text/plain": [
              "6.004400000000038"
            ]
          },
          "metadata": {},
          "execution_count": 10
        }
      ]
    },
    {
      "cell_type": "code",
      "source": [
        "## puzzle 9\n",
        "class Solution:\n",
        "  def toyManufacturer(self, trials = 100_000):\n",
        "    for trial in range(1, trials+1):\n",
        "      toy_coll = set()\n",
        "      complete_coll = {i for i in range(1, 5)}\n",
        "      boxes = 0\n",
        "      while len(toy_coll) != len(complete_coll):\n",
        "        toy = random.randint(1,4)\n",
        "        toy_coll.add(toy)\n",
        "        boxes += 1\n",
        "      if trial == 1:\n",
        "        mean_result = boxes\n",
        "      else:\n",
        "        mean_result = mean_result * ((trial-1) / (trial)) + boxes / (trial)\n",
        "    return mean_result"
      ],
      "metadata": {
        "id": "ie_pvm2lWf1v"
      },
      "execution_count": null,
      "outputs": []
    },
    {
      "cell_type": "code",
      "source": [
        "sol = Solution()\n",
        "sol.toyManufacturer()"
      ],
      "metadata": {
        "id": "VaFvwf3jWf42",
        "colab": {
          "base_uri": "https://localhost:8080/"
        },
        "outputId": "12876341-dca9-43a5-c36c-152ce4d89e04"
      },
      "execution_count": null,
      "outputs": [
        {
          "output_type": "execute_result",
          "data": {
            "text/plain": [
              "8.356849999999891"
            ]
          },
          "metadata": {},
          "execution_count": 13
        }
      ]
    },
    {
      "cell_type": "code",
      "source": [
        "## puzzle 11\n",
        "\n",
        "class Solution:\n",
        "  def probAwins(self, trials = 100_000):\n",
        "    Awins_count = 0\n",
        "    for trial in range(trials):\n",
        "      winner = self.game()\n",
        "      if winner == 'A':\n",
        "        Awins_count += 1\n",
        "    return Awins_count / trials\n",
        "\n",
        "  def game(self):\n",
        "    shooter = 0\n",
        "    people = ['A', 'B', 'C']\n",
        "    while len(people) > 1:\n",
        "      shooter = shooter % len(people)\n",
        "      target = (shooter + 1) % len(people)\n",
        "      if people[shooter] in ['A', 'C']:\n",
        "        if random.randint(0,1):\n",
        "          people.remove(people[target])\n",
        "      elif people[shooter] in ['B']:\n",
        "        if random.choice([0, 1, 1, 1]): ## faster\n",
        "        # if random.choices([0, 1], weights = [1,3])[0]:  ## slower\n",
        "          people.remove(people[target])\n",
        "      shooter += 1\n",
        "    return people[0]"
      ],
      "metadata": {
        "id": "CwRg43BtWf9o"
      },
      "execution_count": null,
      "outputs": []
    },
    {
      "cell_type": "code",
      "source": [
        "sol = Solution()\n",
        "sol.probAwins()"
      ],
      "metadata": {
        "colab": {
          "base_uri": "https://localhost:8080/"
        },
        "id": "44YjjKiW3Avr",
        "outputId": "24aaccc5-8e18-4adc-94d9-446900d55108"
      },
      "execution_count": null,
      "outputs": [
        {
          "output_type": "execute_result",
          "data": {
            "text/plain": [
              "0.40627"
            ]
          },
          "metadata": {},
          "execution_count": 97
        }
      ]
    },
    {
      "cell_type": "code",
      "source": [
        "## puzzle 18\n",
        "class Solution:\n",
        "  def bacteriaPopulation(self, trials = 10_000):\n",
        "    result = 0\n",
        "    for trial in range(trials):\n",
        "      result += self.death()\n",
        "    return result / trials\n",
        "\n",
        "  def death(self):\n",
        "    bacteria = 2\n",
        "    while bacteria > 0 and bacteria < 100:\n",
        "      if random.choice([0, 1, 1, 1]):\n",
        "      # if random.choices([0, 1], weights = [1,3])[0]:\n",
        "        bacteria += 1\n",
        "      else:\n",
        "        bacteria -= 1\n",
        "    return 0 if bacteria > 0 else 1"
      ],
      "metadata": {
        "id": "ujTw3pPp3Aya"
      },
      "execution_count": null,
      "outputs": []
    },
    {
      "cell_type": "code",
      "source": [
        "sol = Solution()\n",
        "sol.bacteriaPopulation()"
      ],
      "metadata": {
        "colab": {
          "base_uri": "https://localhost:8080/"
        },
        "id": "i88oZ-wr3A1h",
        "outputId": "6319302a-b3d1-46f8-da8f-b1d0aef6505f"
      },
      "execution_count": null,
      "outputs": [
        {
          "output_type": "execute_result",
          "data": {
            "text/plain": [
              "0.1122"
            ]
          },
          "metadata": {},
          "execution_count": 93
        }
      ]
    },
    {
      "cell_type": "code",
      "source": [
        "## puzzle 19\n",
        "class Solution:\n",
        "  def probMultiples(self, trials = 100_000):\n",
        "    count = 0\n",
        "    for trial in range(trials):\n",
        "      count += self.probMultHelper()\n",
        "    return count / trial\n",
        "\n",
        "  def probMultHelper(self):\n",
        "    num = random.randint(1, 1000)\n",
        "    for mult in [7, 11, 13]:\n",
        "      if num % mult == 0:\n",
        "        return 1\n",
        "    return 0"
      ],
      "metadata": {
        "id": "xAR13Vda3A7X"
      },
      "execution_count": null,
      "outputs": []
    },
    {
      "cell_type": "code",
      "source": [
        "sol = Solution()\n",
        "sol.probMultiples()"
      ],
      "metadata": {
        "colab": {
          "base_uri": "https://localhost:8080/"
        },
        "id": "urKA-tWZ3A-Q",
        "outputId": "f59fc34d-2aac-4d68-92ae-767dceafdc15"
      },
      "execution_count": null,
      "outputs": [
        {
          "output_type": "execute_result",
          "data": {
            "text/plain": [
              "0.2812528125281253"
            ]
          },
          "metadata": {},
          "execution_count": 19
        }
      ]
    },
    {
      "cell_type": "code",
      "source": [
        "## puzzle 20\n",
        "class Solution:\n",
        "  def weather(self, trials = 100_000):\n",
        "    result_avg = self.weatherHelper()\n",
        "    for trial in range(2, trials+1):\n",
        "      result_avg = result_avg * ((trial-1) / (trial)) + self.weatherHelper() / trial\n",
        "    return result_avg\n",
        "\n",
        "\n",
        "  def weatherHelper(self):\n",
        "    weather_blocks = 1\n",
        "    weather_prob = ['sunny'] * 4 + ['cloudy'] * 4 + ['rainy'] * 2\n",
        "    random.shuffle(weather_prob)\n",
        "    prev_weather = random.choice(weather_prob)\n",
        "    for day in range(2, 10 + 1):\n",
        "      curr_weather = random.choice(weather_prob)\n",
        "      if curr_weather != prev_weather:\n",
        "        weather_blocks += 1\n",
        "      prev_weather = curr_weather\n",
        "    return weather_blocks\n"
      ],
      "metadata": {
        "id": "gOVbdRll3BBQ"
      },
      "execution_count": null,
      "outputs": []
    },
    {
      "cell_type": "code",
      "source": [
        "sol = Solution()\n",
        "sol.weather()"
      ],
      "metadata": {
        "colab": {
          "base_uri": "https://localhost:8080/"
        },
        "id": "Og9gXPWb3BGi",
        "outputId": "2b862498-4bfb-4bb5-ca18-9292a9ca77d1"
      },
      "execution_count": null,
      "outputs": [
        {
          "output_type": "execute_result",
          "data": {
            "text/plain": [
              "6.751939999999923"
            ]
          },
          "metadata": {},
          "execution_count": 103
        }
      ]
    },
    {
      "cell_type": "code",
      "source": [
        "## puzzle 21\n",
        "class Solution:\n",
        "  def weatherMoreReal(self, trials = 100_000):\n",
        "    result_avg = self.weatherHelper()\n",
        "    for trial in range(2, trials+1):\n",
        "      result_avg = result_avg * ((trial-1) / (trial)) + self.weatherHelper() / trial\n",
        "    return result_avg\n",
        "\n",
        "\n",
        "  def weatherHelper(self):\n",
        "    weather_blocks = 1\n",
        "    weather_prob = ['sunny'] * 4 + ['cloudy'] * 4 + ['rainy'] * 2\n",
        "    prev_weather = random.choice(weather_prob)\n",
        "    ## conditional weather\n",
        "    weather_map = dict()\n",
        "    weather_map['sunny'] = ['sunny'] * 2 + ['cloudy'] * 1 + ['rainy'] * 1\n",
        "    weather_map['cloudy'] = ['sunny'] * 2 + ['cloudy'] * 1 + ['rainy'] * 1\n",
        "    weather_map['rainy'] = ['cloudy']\n",
        "    for day in range(2, 10 + 1):\n",
        "      curr_weather = random.choice(weather_map[prev_weather])\n",
        "      if curr_weather != prev_weather:\n",
        "        weather_blocks += 1\n",
        "      prev_weather = curr_weather\n",
        "    return weather_blocks\n"
      ],
      "metadata": {
        "id": "3XG5lX5e3BKN"
      },
      "execution_count": null,
      "outputs": []
    },
    {
      "cell_type": "code",
      "source": [
        "sol = Solution()\n",
        "sol.weatherMoreReal()"
      ],
      "metadata": {
        "colab": {
          "base_uri": "https://localhost:8080/"
        },
        "id": "lPKgdg58J_Bj",
        "outputId": "925ae118-619e-4577-a7c1-3445108ec4d4"
      },
      "execution_count": null,
      "outputs": [
        {
          "output_type": "execute_result",
          "data": {
            "text/plain": [
              "7.302279999999917"
            ]
          },
          "metadata": {},
          "execution_count": 105
        }
      ]
    },
    {
      "cell_type": "code",
      "source": [
        "## puzzle 24\n",
        "\n",
        "class Solution:\n",
        "  def femalePop(self, trials = 100_000):\n",
        "    n_female, n_children = 0, 0\n",
        "    for trial in range(trials):\n",
        "      x, y = self.femalePopHelper()\n",
        "      n_female += x\n",
        "      n_children += y\n",
        "    return n_female / n_children\n",
        "\n",
        "  def femalePopHelper(self):\n",
        "    children_pop = ['female'] * 49 + ['male'] * 51\n",
        "    child = random.choice(children_pop)\n",
        "    children = [child]\n",
        "    while child == 'male':  ## stop after having a female child\n",
        "      child = random.choice(children_pop)\n",
        "      children.append(child)\n",
        "    return 1, len(children) ## number of female, total number of children"
      ],
      "metadata": {
        "id": "J-POU4nzJ_Kz"
      },
      "execution_count": null,
      "outputs": []
    },
    {
      "cell_type": "code",
      "source": [
        "sol = Solution()\n",
        "sol.femalePop()"
      ],
      "metadata": {
        "colab": {
          "base_uri": "https://localhost:8080/"
        },
        "id": "Y4I7uAdYK2du",
        "outputId": "9084d6ce-59e7-44e0-b19c-951de4dcd332"
      },
      "execution_count": null,
      "outputs": [
        {
          "output_type": "execute_result",
          "data": {
            "text/plain": [
              "0.4908963276045732"
            ]
          },
          "metadata": {},
          "execution_count": 85
        }
      ]
    },
    {
      "cell_type": "code",
      "source": [
        "## puzzle 28\n",
        "\n",
        "class Solution:\n",
        "  def analogClock(self, trials = 1000):\n",
        "    count = 0\n",
        "    for trial in range(trials):\n",
        "      count += self.analogClockHelper()\n",
        "    return count / trials\n",
        "\n",
        "  def analogClockHelper(self):\n",
        "    # action = ['move'] * 99 + ['stuck']\n",
        "    action = [1] * 99 + [0]\n",
        "    hand = 0\n",
        "    N = 10000\n",
        "    for i in range(N):\n",
        "      hand += random.choice(action)\n",
        "      hand = hand % 12\n",
        "    return 1 if hand == 3 else 0"
      ],
      "metadata": {
        "id": "LbAvSO-RK2lL"
      },
      "execution_count": null,
      "outputs": []
    },
    {
      "cell_type": "code",
      "source": [
        "sol = Solution()\n",
        "sol.analogClock()"
      ],
      "metadata": {
        "colab": {
          "base_uri": "https://localhost:8080/"
        },
        "id": "q7Hh-3sCK2oz",
        "outputId": "117bd299-59e3-4f58-9d83-bd9f444063ed"
      },
      "execution_count": null,
      "outputs": [
        {
          "output_type": "execute_result",
          "data": {
            "text/plain": [
              "0.084"
            ]
          },
          "metadata": {},
          "execution_count": 114
        }
      ]
    },
    {
      "cell_type": "code",
      "source": [
        "1/12"
      ],
      "metadata": {
        "colab": {
          "base_uri": "https://localhost:8080/"
        },
        "id": "v7slD1CGK2sD",
        "outputId": "54e61602-bc01-4589-a9ac-2bd2b62935b0"
      },
      "execution_count": null,
      "outputs": [
        {
          "output_type": "execute_result",
          "data": {
            "text/plain": [
              "0.08333333333333333"
            ]
          },
          "metadata": {},
          "execution_count": 115
        }
      ]
    },
    {
      "cell_type": "code",
      "source": [],
      "metadata": {
        "id": "SoDkkEDGK2vM"
      },
      "execution_count": null,
      "outputs": []
    },
    {
      "cell_type": "code",
      "source": [],
      "metadata": {
        "id": "QV4fQ0pkJ_Nr"
      },
      "execution_count": null,
      "outputs": []
    },
    {
      "cell_type": "markdown",
      "source": [
        "### Level: Outrageous"
      ],
      "metadata": {
        "id": "rd-2mjpkaJxm"
      }
    },
    {
      "cell_type": "code",
      "source": [
        "## puzzle 9\n",
        "\n",
        "class Solution:\n",
        "  def gambling(self, trials = 10_000):\n",
        "    result = 0\n",
        "    for trial in range(trials):\n",
        "      result += self.gamblingHelper()\n",
        "    return result / trials\n",
        "\n",
        "  def gamblingHelper(self):\n",
        "    money = 2\n",
        "    wining = [1] * 3 + [-1]\n",
        "    while money > 0 and money < 100:\n",
        "      money += random.choice(wining)\n",
        "    return 1 if money <=0 else 0"
      ],
      "metadata": {
        "id": "JU91VWpxJ_Qw"
      },
      "execution_count": null,
      "outputs": []
    },
    {
      "cell_type": "code",
      "source": [
        "sol = Solution()\n",
        "sol.gambling(trials = 100000)"
      ],
      "metadata": {
        "colab": {
          "base_uri": "https://localhost:8080/"
        },
        "id": "KZjiSoUgJ_T6",
        "outputId": "8c0e1565-cd69-4fa9-b6c2-1491b49213ab"
      },
      "execution_count": null,
      "outputs": [
        {
          "output_type": "execute_result",
          "data": {
            "text/plain": [
              "0.11"
            ]
          },
          "metadata": {},
          "execution_count": 156
        }
      ]
    },
    {
      "cell_type": "code",
      "source": [
        "1/9"
      ],
      "metadata": {
        "colab": {
          "base_uri": "https://localhost:8080/"
        },
        "id": "IZoeJdK4J_Wz",
        "outputId": "620754ba-e2aa-456e-8514-c15075501081"
      },
      "execution_count": null,
      "outputs": [
        {
          "output_type": "execute_result",
          "data": {
            "text/plain": [
              "0.1111111111111111"
            ]
          },
          "metadata": {},
          "execution_count": 151
        }
      ]
    },
    {
      "cell_type": "code",
      "source": [],
      "metadata": {
        "id": "f_AbJOtUJ_Z_"
      },
      "execution_count": null,
      "outputs": []
    },
    {
      "cell_type": "code",
      "source": [],
      "metadata": {
        "id": "Xlf-NSv2MkcL"
      },
      "execution_count": null,
      "outputs": []
    },
    {
      "cell_type": "code",
      "source": [],
      "metadata": {
        "id": "5ZxXFFAMMkgJ"
      },
      "execution_count": null,
      "outputs": []
    },
    {
      "cell_type": "markdown",
      "source": [
        "## Misc"
      ],
      "metadata": {
        "id": "zSxzsA1MKSDS"
      }
    },
    {
      "cell_type": "markdown",
      "source": [
        "$$\n",
        "\\frac{\\text{area of a circle}}{\\text{area of a square}} = \\frac{\\pi r^2}{4 r^2} = \\frac{\\pi}{4}\n",
        "$$"
      ],
      "metadata": {
        "id": "D6ku167ZK2PN"
      }
    },
    {
      "cell_type": "code",
      "source": [
        "## calculating pi\n",
        "def calculatePi(iters = 1_000_000):\n",
        "  circle, square = 0, 0\n",
        "  for _ in range(iters):\n",
        "    x, y = random.uniform(-1,1), random.uniform(-1,1)\n",
        "    if x **2 + y **2 <= 1:\n",
        "      circle += 1\n",
        "    square += 1\n",
        "  return 4 * circle / square"
      ],
      "metadata": {
        "id": "FKfIhXkVKRJe"
      },
      "execution_count": null,
      "outputs": []
    },
    {
      "cell_type": "code",
      "source": [
        "calculatePi()"
      ],
      "metadata": {
        "colab": {
          "base_uri": "https://localhost:8080/"
        },
        "id": "-EGUS5agKYGL",
        "outputId": "66fff27e-6103-48db-8ce7-2a03df57e523"
      },
      "execution_count": null,
      "outputs": [
        {
          "output_type": "execute_result",
          "data": {
            "text/plain": [
              "3.141372"
            ]
          },
          "metadata": {},
          "execution_count": 8
        }
      ]
    },
    {
      "cell_type": "code",
      "source": [
        "## probability of real roots of ax^2 + 2bx + c = 0 where coef ~ Unif(0,1)\n",
        "## translates to b^2 >= ac\n",
        "def realRoots(iters = 100_000):\n",
        "  count = 0\n",
        "  for _ in range(iters):\n",
        "    a, b, c = random.uniform(0,1), random.uniform(0,1), random.uniform(0,1)\n",
        "    if b * b >= a * c:\n",
        "      count += 1\n",
        "  return count / iters"
      ],
      "metadata": {
        "id": "j-3s6IPl_tdy"
      },
      "execution_count": null,
      "outputs": []
    },
    {
      "cell_type": "code",
      "source": [
        "realRoots()"
      ],
      "metadata": {
        "id": "197QKlhwYhxz",
        "colab": {
          "base_uri": "https://localhost:8080/"
        },
        "outputId": "43ea1cf5-f84c-4b88-b1b0-4885764a22ce"
      },
      "execution_count": null,
      "outputs": [
        {
          "output_type": "execute_result",
          "data": {
            "text/plain": [
              "0.55558"
            ]
          },
          "metadata": {},
          "execution_count": 7
        }
      ]
    },
    {
      "cell_type": "code",
      "source": [],
      "metadata": {
        "id": "wxFkYHD7bVXn"
      },
      "execution_count": null,
      "outputs": []
    },
    {
      "cell_type": "code",
      "source": [],
      "metadata": {
        "id": "geOTOEhNABYL"
      },
      "execution_count": null,
      "outputs": []
    },
    {
      "cell_type": "code",
      "source": [],
      "metadata": {
        "id": "Yg3Eaau2bVcP"
      },
      "execution_count": null,
      "outputs": []
    },
    {
      "cell_type": "code",
      "source": [],
      "metadata": {
        "id": "XXaq7AOPYh2M"
      },
      "execution_count": null,
      "outputs": []
    },
    {
      "cell_type": "markdown",
      "source": [
        "## Appendix"
      ],
      "metadata": {
        "id": "5YPHUD0JQN4M"
      }
    },
    {
      "cell_type": "markdown",
      "source": [
        "### OpenQuant (not mine)"
      ],
      "metadata": {
        "id": "fFqHdRdxQU-0"
      }
    },
    {
      "cell_type": "markdown",
      "source": [
        "Note that most of the code in this section is copied and pasted from https://openquant.co/questions."
      ],
      "metadata": {
        "id": "92oiMPyKQU-2"
      }
    },
    {
      "cell_type": "code",
      "source": [
        "## Even Before Odd\n",
        "import random\n",
        "\n",
        "roll_dice = lambda: random.randint(1, 6)\n",
        "\n",
        "valid_cases = 0\n",
        "num_iters = 100_000\n",
        "for i in range(num_iters):\n",
        "\n",
        "    seen_faces = set()\n",
        "    while(True):\n",
        "\n",
        "        roll = roll_dice()\n",
        "        seen_faces.add(roll)\n",
        "\n",
        "        if roll % 2 == 1 and len(seen_faces) < 4:\n",
        "            break\n",
        "\n",
        "        if len(seen_faces) == 6:\n",
        "            valid_cases += 1\n",
        "            break\n",
        "\n",
        "print(valid_cases / num_iters)"
      ],
      "metadata": {
        "colab": {
          "base_uri": "https://localhost:8080/"
        },
        "outputId": "c1229516-3bb5-45c3-935a-390ca11d9ed5",
        "id": "y5dNBz14QU-3"
      },
      "execution_count": null,
      "outputs": [
        {
          "output_type": "stream",
          "name": "stdout",
          "text": [
            "0.04967\n"
          ]
        }
      ]
    },
    {
      "cell_type": "code",
      "source": [
        "## Race to Ace\n",
        "import random\n",
        "from typing import Tuple\n",
        "from itertools import product\n",
        "\n",
        "suits = ['S', 'C', 'D', 'H']\n",
        "ranks = ['A', '2', '3', '4', '5', '6', '7', '8', '9', '10', 'J', 'Q', 'K']\n",
        "\n",
        "class Deck:\n",
        "    def __init__(self) -> None:\n",
        "        \"\"\"Initialize a deck of cards\"\"\"\n",
        "        self.cards = [(rank, suit) for rank, suit in product(ranks, suits)]\n",
        "\n",
        "    def shuffle(self) -> None:\n",
        "        \"\"\"Shuffle a deck of cards\"\"\"\n",
        "        self.cards = random.sample(self.cards, 52)\n",
        "\n",
        "    def draw(self) -> Tuple[str, str]:\n",
        "        \"\"\"Draw a card from the deck\"\"\"\n",
        "        return self.cards.pop()\n",
        "\n",
        "    def isEmpty(self) -> bool:\n",
        "        \"\"\"Check if the deck has cards\"\"\"\n",
        "        return self.cards == []\n",
        "\n",
        "def simulation() -> int:\n",
        "    deck = Deck()\n",
        "    deck.shuffle()\n",
        "\n",
        "    cards_drawn = 0\n",
        "\n",
        "    # Keep drawing until we find an ace\n",
        "    while not deck.isEmpty():\n",
        "        suit, rank = deck.draw()\n",
        "        cards_drawn += 1\n",
        "\n",
        "        if suit == \"A\":\n",
        "            return cards_drawn\n",
        "\n",
        "    return cards_drawn\n",
        "\n",
        "cards_needed = [simulation() for _ in range(10_000)]\n",
        "\n",
        "# Get the expected number of cards until we draw our first ace\n",
        "print(sum(cards_needed) / len(cards_needed))"
      ],
      "metadata": {
        "colab": {
          "base_uri": "https://localhost:8080/"
        },
        "outputId": "fbce738d-6658-4640-ea17-74b1098b055d",
        "id": "YhOHD2xjQU-5"
      },
      "execution_count": null,
      "outputs": [
        {
          "output_type": "stream",
          "name": "stdout",
          "text": [
            "10.6396\n"
          ]
        }
      ]
    },
    {
      "cell_type": "code",
      "source": [
        "## Highest Roll EV\n",
        "import random\n",
        "\n",
        "roll_dice = lambda: random.randint(1, 6)\n",
        "\n",
        "results = []\n",
        "num_iters = 10_000\n",
        "for i in range(num_iters):\n",
        "\n",
        "    highest = 0\n",
        "    while(True):\n",
        "\n",
        "        roll = roll_dice()\n",
        "        highest = max(highest, roll)\n",
        "\n",
        "        if roll == 4:\n",
        "            break\n",
        "\n",
        "    results.append(highest)\n",
        "\n",
        "print(sum(results) / num_iters)"
      ],
      "metadata": {
        "colab": {
          "base_uri": "https://localhost:8080/"
        },
        "outputId": "b72da2d2-b2ed-425a-d0c5-2e3be6e5cd44",
        "id": "CgaQx1xWQU-6"
      },
      "execution_count": null,
      "outputs": [
        {
          "output_type": "stream",
          "name": "stdout",
          "text": [
            "5.1828\n"
          ]
        }
      ]
    },
    {
      "cell_type": "code",
      "source": [
        "## Dice Game 1\n",
        "import random\n",
        "from typing import Callable\n",
        "\n",
        "random.seed(42)\n",
        "\n",
        "roll_dice: Callable[[None], int] = lambda: random.randrange(1, 7, 1)\n",
        "\n",
        "def play_game() -> bool:\n",
        "    \"\"\"Returns a boolean indicating whether player A won\"\"\"\n",
        "    pa_turn = True\n",
        "    while True:\n",
        "        dice_roll_sum = roll_dice() + roll_dice()\n",
        "        if pa_turn and dice_roll_sum == 6:\n",
        "            return True\n",
        "        if not pa_turn and dice_roll_sum == 7:\n",
        "            return False\n",
        "        pa_turn = not pa_turn\n",
        "\n",
        "iterations = 10_000\n",
        "pa_win_prob = sum([play_game() for _ in range(iterations)]) / iterations\n",
        "print(f\"The probability of Player A winning is {pa_win_prob}\")"
      ],
      "metadata": {
        "colab": {
          "base_uri": "https://localhost:8080/"
        },
        "outputId": "bf4bc420-d483-4f40-8bae-3333c0b4c153",
        "id": "CaqDwbM-QU-8"
      },
      "execution_count": null,
      "outputs": [
        {
          "output_type": "stream",
          "name": "stdout",
          "text": [
            "The probability of Player A winning is 0.4917\n"
          ]
        }
      ]
    },
    {
      "cell_type": "code",
      "source": [
        "## First Steps\n",
        "import random\n",
        "\n",
        "#logs state baby has traveled to\n",
        "state_log = [0]\n",
        "\n",
        "num_transitions = 10_000\n",
        "for i in range(num_transitions):\n",
        "\n",
        "    #modeling random walk using random variable t\n",
        "    t = random.randint(1,10)\n",
        "\n",
        "    if t <= 2:\n",
        "        state_log.append(state_log[-1] + 1)\n",
        "    elif t <= 7:\n",
        "        state_log.append(state_log[-1])\n",
        "    else:\n",
        "        state_log.append(max(state_log[-1] - 1, 0))\n",
        "\n",
        "#Expecting value close to 1/3\n",
        "print((state_log.count(0)-1)/len(state_log))"
      ],
      "metadata": {
        "colab": {
          "base_uri": "https://localhost:8080/"
        },
        "outputId": "72094787-85b3-4564-f162-0f50f11ce2dc",
        "id": "UgiyvynlQU--"
      },
      "execution_count": null,
      "outputs": [
        {
          "output_type": "stream",
          "name": "stdout",
          "text": [
            "0.3290670932906709\n"
          ]
        }
      ]
    },
    {
      "cell_type": "code",
      "source": [
        "## Ten Floor Building\n",
        "import random\n",
        "\n",
        "def simulate_trial() -> int:\n",
        "    # each of the 12 people pick a random floor between 1 and 10\n",
        "    floors = [random.randint(1, 10) for _ in range(12)]\n",
        "\n",
        "    # count the number of unique floors the elevator must stop at\n",
        "    return len(set(floors))\n",
        "\n",
        "# list of the number of floors the elevator stopped at for each trial\n",
        "res = [simulate_trial() for _ in range(10_000)]\n",
        "\n",
        "# compute the average, or expected number of floors the elevator needed to stop at over all 10,000 trials\n",
        "print(sum(res) / len(res))"
      ],
      "metadata": {
        "colab": {
          "base_uri": "https://localhost:8080/"
        },
        "outputId": "11eac624-930d-4df2-b10f-a19efb541b1f",
        "id": "lB-ypvBJQU-_"
      },
      "execution_count": null,
      "outputs": [
        {
          "output_type": "stream",
          "name": "stdout",
          "text": [
            "7.1563\n"
          ]
        }
      ]
    },
    {
      "cell_type": "code",
      "source": [
        "## Dot Placement\n",
        "import random\n",
        "\n",
        "# Place 3 dots randomly on 1 of 8 sides\n",
        "simulation = lambda: len(set([random.randint(1, 8) for _ in range(3)])) == 3\n",
        "\n",
        "# Run 10,000 simulations\n",
        "simulations = [simulation() for _ in range(10_000)]\n",
        "\n",
        "# Find the proportion of simulations in which all three dots are placed on a unique edge\n",
        "print(f\"Answer: {sum(simulations) / len(simulations)}\")"
      ],
      "metadata": {
        "colab": {
          "base_uri": "https://localhost:8080/"
        },
        "outputId": "4cc8969a-8c0e-4e2f-b367-22946e371ec0",
        "id": "Zj4vooxHQU_B"
      },
      "execution_count": null,
      "outputs": [
        {
          "output_type": "stream",
          "name": "stdout",
          "text": [
            "Answer: 0.6474\n"
          ]
        }
      ]
    },
    {
      "cell_type": "code",
      "source": [
        "## Multiple of 6\n",
        "import random\n",
        "from typing import Callable\n",
        "\n",
        "roll_dice: Callable [[None], int] = lambda: random.randrange(1,7)\n",
        "\n",
        "total_rolls = 0\n",
        "num_iters = 10_000\n",
        "#simulates rolling until we get a multiple of 6 num_iters times\n",
        "for i in range(num_iters):\n",
        "\n",
        "   run_sum = roll_dice()\n",
        "   rolls = 1\n",
        "\n",
        "   #reroll until the sum is a multiple of 6\n",
        "   while run_sum % 6 != 0:\n",
        "      run_sum += roll_dice()\n",
        "      rolls += 1\n",
        "\n",
        "   total_rolls += rolls\n",
        "\n",
        "#expecting value close to 6.00\n",
        "print(total_rolls/num_iters)"
      ],
      "metadata": {
        "colab": {
          "base_uri": "https://localhost:8080/"
        },
        "outputId": "15956101-21ed-4a49-9d2f-1b38542a8829",
        "id": "qAWecl75QU_C"
      },
      "execution_count": null,
      "outputs": [
        {
          "output_type": "stream",
          "name": "stdout",
          "text": [
            "6.0424\n"
          ]
        }
      ]
    },
    {
      "cell_type": "code",
      "source": [
        "## Conditional Dice Rolls\n",
        "\n",
        "## part 1\n",
        "import random\n",
        "\n",
        "roll_dice = lambda: random.randint(1,6)\n",
        "\n",
        "sequence_lengths = []\n",
        "num_iters = 10_000\n",
        "for i in range(num_iters):\n",
        "\n",
        "    sequence = []\n",
        "    while(True):\n",
        "\n",
        "        sequence.append(roll_dice())\n",
        "\n",
        "        if sequence[-1] == 5:\n",
        "            break\n",
        "        elif sequence[-1] == 6:\n",
        "            sequence_lengths.append(len(sequence))\n",
        "            break\n",
        "\n",
        "print(sum(sequence_lengths)/len(sequence_lengths))\n",
        "## part 2\n",
        "import random\n",
        "\n",
        "roll_dice = lambda: random.randint(1,6)\n",
        "\n",
        "sequence_lengths = []\n",
        "num_iters = 10_000\n",
        "for i in range(num_iters):\n",
        "\n",
        "    sequence = []\n",
        "    while(True):\n",
        "\n",
        "        sequence.append(roll_dice())\n",
        "\n",
        "        if sequence[-1] == 6:\n",
        "            if 5 in sequence:\n",
        "                sequence_lengths.append(len(sequence))\n",
        "            break\n",
        "\n",
        "print(sum(sequence_lengths)/len(sequence_lengths))\n",
        "## part 3\n",
        "import random\n",
        "\n",
        "roll_dice = lambda: random.randint(1,6)\n",
        "\n",
        "sequence_lengths = []\n",
        "num_iters = 10_000\n",
        "\n",
        "for i in range(num_iters):\n",
        "    sequence = []\n",
        "\n",
        "    while(True):\n",
        "        sequence.append(roll_dice())\n",
        "\n",
        "        if sequence[-1] == 1:\n",
        "            break\n",
        "        elif sequence[-1] == 3:\n",
        "            break\n",
        "        elif sequence[-1] == 5:\n",
        "            break\n",
        "        elif sequence[-1] == 6:\n",
        "            sequence_lengths.append(len(sequence))\n",
        "            break\n",
        "\n",
        "print(sum(sequence_lengths)/len(sequence_lengths))"
      ],
      "metadata": {
        "colab": {
          "base_uri": "https://localhost:8080/"
        },
        "outputId": "128fd7ed-7a06-4aff-ae08-3d66fbc34218",
        "id": "ZDsvf-QMQU_E"
      },
      "execution_count": null,
      "outputs": [
        {
          "output_type": "stream",
          "name": "stdout",
          "text": [
            "3.0948994106888845\n",
            "8.80032401782098\n",
            "1.503257328990228\n"
          ]
        }
      ]
    },
    {
      "cell_type": "code",
      "source": [
        "## Three Rings\n",
        "\n",
        "import random\n",
        "import numpy as np\n",
        "\n",
        "# PART 1\n",
        "\n",
        "def simulate_trial():\n",
        "    lst = []\n",
        "    for i in range(3):\n",
        "        # randomly choose A, B, or C according to respective probabilities\n",
        "        val = np.random.choice([\"A\", \"B\", \"C\"], p=[1/9, 3/9, 5/9])\n",
        "        lst.append(val)\n",
        "    return lst\n",
        "\n",
        "# counter number of successes\n",
        "num_successes = 0\n",
        "\n",
        "# simulate trial 100,000 times\n",
        "for i in range(100000):\n",
        "    trial = simulate_trial()\n",
        "    # see if there are three unique values -> A, B, C\n",
        "    if len(np.unique(trial)) == 3:\n",
        "        # if so, increase the number of successes by 1\n",
        "        num_successes += 1\n",
        "\n",
        "# expected proportion around 90/729 or 0.1234\n",
        "print(num_successes/100000)\n",
        "\n",
        "import random\n",
        "import numpy as np\n",
        "from collections import Counter\n",
        "\n",
        "# PART 2\n",
        "\n",
        "n = 3\n",
        "\n",
        "def simulate_trial():\n",
        "    lst = []\n",
        "    for i in range(3*n):\n",
        "        val = np.random.choice([\"A\", \"B\", \"C\"], p=[1/9, 3/9, 5/9])\n",
        "        lst.append(val)\n",
        "    return lst\n",
        "\n",
        "num_successes = 0\n",
        "\n",
        "# simulate trial 100,000 times\n",
        "for i in range(100000):\n",
        "    trial = simulate_trial()\n",
        "    dict_ = Counter(trial)\n",
        "    # if each A, B, and C show up exactly 3 times\n",
        "    if (dict_[\"A\"] == 3 and dict_[\"B\"] == 3 and dict_[\"C\"] == 3):\n",
        "        num_successes += 1\n",
        "\n",
        "# expected proportion around 0.0146 or 1.46%\n",
        "print(num_successes / 100000)"
      ],
      "metadata": {
        "colab": {
          "base_uri": "https://localhost:8080/"
        },
        "outputId": "41a45fef-9a16-4506-b91e-4a1d29928c84",
        "id": "0PNfmuZEQU_G"
      },
      "execution_count": null,
      "outputs": [
        {
          "output_type": "stream",
          "name": "stdout",
          "text": [
            "0.12284\n",
            "0.01462\n"
          ]
        }
      ]
    },
    {
      "cell_type": "code",
      "source": [
        "## King of Hearts\n",
        "import random\n",
        "\n",
        "suits = ['S', 'C', 'D', 'H']\n",
        "ranks = ['A', '2', '3', '4', '5', '6', '7', '8', '9', '10', 'J', 'Q', 'K']\n",
        "\n",
        "class Deck:\n",
        "    def __init__(self):\n",
        "        self.cards = []\n",
        "        for suit in suits:\n",
        "            for rank in ranks:\n",
        "                self.cards.append([rank, suit])\n",
        "\n",
        "    def shuffle(self):\n",
        "        # shuffles deck of cards\n",
        "        return random.sample(self.cards, 52)\n",
        "\n",
        "# number of decks where the first ace is on the 14th draw\n",
        "num_valid_decks = 0\n",
        "num_15th_is8h = 0\n",
        "\n",
        "# create 10,000,000 shuffled decks\n",
        "# see how many of the decks, where the first ace is on the 14th draw, have 8h as the next card\n",
        "for i in range(1_000_000):\n",
        "    deck = Deck().shuffle()\n",
        "\n",
        "    # excluding all decks with an ace not being on the 14th draw\n",
        "    if deck[13][0] != 'A':\n",
        "        continue\n",
        "\n",
        "    # exlcuding all decks with an ace in the first 13 draws\n",
        "    for j in range(13):\n",
        "        if deck[j][0] == 'A':\n",
        "            break\n",
        "    else:\n",
        "        num_valid_decks += 1\n",
        "        #checking if 15th card is 8 of hearts\n",
        "        if deck[14]== ['K', 'H']:\n",
        "            num_15th_is8h += 1\n",
        "\n",
        "# should be expecting 35/1824 ~ 0.0191886\n",
        "print(num_15th_is8h / num_valid_decks)"
      ],
      "metadata": {
        "colab": {
          "base_uri": "https://localhost:8080/"
        },
        "outputId": "4df9494c-6a02-4b46-871d-9a6ed7fc5ee9",
        "id": "KDrUgc2wQU_H"
      },
      "execution_count": null,
      "outputs": [
        {
          "output_type": "stream",
          "name": "stdout",
          "text": [
            "0.018182403295359466\n"
          ]
        }
      ]
    },
    {
      "cell_type": "code",
      "source": [
        "## Biased Coin Sequence\n",
        "import random\n",
        "\n",
        "flip_coin = lambda: 'T' if random.randint(1, 3) == 1 else 'H'\n",
        "\n",
        "sequence_lengths = []\n",
        "num_iters = 100_000\n",
        "for i in range(num_iters):\n",
        "\n",
        "    sequence = [flip_coin()]\n",
        "    while(True):\n",
        "\n",
        "        sequence.append(flip_coin())\n",
        "        if sequence[-2]=='T' and sequence[-1]=='H':\n",
        "            sequence_lengths.append(len(sequence))\n",
        "            break\n",
        "\n",
        "print(sum(sequence_lengths) / num_iters)"
      ],
      "metadata": {
        "colab": {
          "base_uri": "https://localhost:8080/"
        },
        "outputId": "2833956f-06e4-42b3-8f6a-0824ba9f4a2f",
        "id": "F1z2A48ZQU_J"
      },
      "execution_count": null,
      "outputs": [
        {
          "output_type": "stream",
          "name": "stdout",
          "text": [
            "4.50679\n"
          ]
        }
      ]
    },
    {
      "cell_type": "code",
      "source": [
        "## Three Sticks\n",
        "import random\n",
        "\n",
        "def simulate_trial():\n",
        "   x, y = random.uniform(0, 1), random.uniform(0, 1)\n",
        "   x, y = min(x, y), max(x, y)\n",
        "   sides = [x, y-x, 1-y]\n",
        "   return min(sides)\n",
        "\n",
        "res = []\n",
        "\n",
        "for _ in range(1_000_000):\n",
        "   val = simulate_trial()\n",
        "   res.append(val)\n",
        "\n",
        "print(len([i for i in res if i <= 0.2]) / len(res))"
      ],
      "metadata": {
        "colab": {
          "base_uri": "https://localhost:8080/"
        },
        "outputId": "76222994-b75e-4f70-ff98-44e75b5d59c7",
        "id": "k4im2BJ0QU_L"
      },
      "execution_count": null,
      "outputs": [
        {
          "output_type": "stream",
          "name": "stdout",
          "text": [
            "0.840222\n"
          ]
        }
      ]
    },
    {
      "cell_type": "code",
      "source": [
        "## Four of a Kind\n",
        "import random\n",
        "import collections\n",
        "\n",
        "suits = ['S', 'C', 'D', 'H']\n",
        "ranks = ['A', '2', '3', '4', '5', '6', '7', '8', '9', '10', 'J', 'Q', 'K']\n",
        "\n",
        "class Deck:\n",
        "    def __init__(self):\n",
        "        self.cards = []\n",
        "        for suit in suits:\n",
        "            for rank in ranks:\n",
        "                self.cards.append([rank, suit])\n",
        "\n",
        "    def random_hand(self, size):\n",
        "        # returns a hand with num cards = size\n",
        "        return random.sample(self.cards, size)\n",
        "\n",
        "deck = Deck()\n",
        "num_fours = 0\n",
        "\n",
        "# draw 5 cards from standard deck 1,000,000 times,\n",
        "# see how many of them result in a 4 of a kind\n",
        "for i in range(1000000):\n",
        "    hand = deck.random_hand(5)\n",
        "    ranks = [i[0] for i in hand]\n",
        "    # create dictionary with counter of frequency of each suit\n",
        "    count = collections.Counter(ranks)\n",
        "    max_ = max(count.values())\n",
        "    if max_ == 4:\n",
        "        num_fours += 1\n",
        "\n",
        "# should be expecting 0.00024 * 1,000,000 = around 240\n",
        "print(num_fours)"
      ],
      "metadata": {
        "colab": {
          "base_uri": "https://localhost:8080/"
        },
        "outputId": "b53be609-7240-4782-a083-807171d04d29",
        "id": "Qn7aC0BJQU_M"
      },
      "execution_count": null,
      "outputs": [
        {
          "output_type": "stream",
          "name": "stdout",
          "text": [
            "239\n"
          ]
        }
      ]
    },
    {
      "cell_type": "code",
      "source": [],
      "metadata": {
        "id": "V-ZEPyACQU_O"
      },
      "execution_count": null,
      "outputs": []
    },
    {
      "cell_type": "code",
      "source": [],
      "metadata": {
        "id": "MMU_76C9_tqY"
      },
      "execution_count": null,
      "outputs": []
    },
    {
      "cell_type": "markdown",
      "source": [
        "# End"
      ],
      "metadata": {
        "id": "J_3KTsLVObyA"
      }
    },
    {
      "cell_type": "code",
      "source": [],
      "metadata": {
        "id": "8HpoF6KgOcbk"
      },
      "execution_count": null,
      "outputs": []
    }
  ]
}